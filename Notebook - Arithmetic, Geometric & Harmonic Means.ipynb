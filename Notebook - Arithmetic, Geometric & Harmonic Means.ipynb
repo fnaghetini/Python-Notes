{
  "nbformat": 4,
  "nbformat_minor": 0,
  "metadata": {
    "colab": {
      "name": "Notebook Franco - Arithmetic, Geometric & Harmonic Means.ipynb",
      "provenance": [],
      "collapsed_sections": [
        "SXT5HjEcy1d9",
        "tDCBy7V1AqKJ",
        "DEulX-NDWzhf"
      ],
      "toc_visible": true
    },
    "kernelspec": {
      "name": "python3",
      "display_name": "Python 3"
    }
  },
  "cells": [
    {
      "cell_type": "markdown",
      "metadata": {
        "id": "SXT5HjEcy1d9",
        "colab_type": "text"
      },
      "source": [
        "# Aula 07 - Medidas de Tendência Central (Médias)"
      ]
    },
    {
      "cell_type": "markdown",
      "metadata": {
        "id": "u0wlOQSszwO_",
        "colab_type": "text"
      },
      "source": [
        "## Importação das Bibliotecas"
      ]
    },
    {
      "cell_type": "code",
      "metadata": {
        "id": "XbswbwjNxJ1i",
        "colab_type": "code",
        "colab": {}
      },
      "source": [
        "import numpy as np\n",
        "import matplotlib.pyplot as plt\n",
        "from cycler import cycler\n",
        "from scipy.stats.mstats import gmean,hmean\n",
        "from scipy import stats"
      ],
      "execution_count": 0,
      "outputs": []
    },
    {
      "cell_type": "markdown",
      "metadata": {
        "id": "gqQhcH_e0Eyt",
        "colab_type": "text"
      },
      "source": [
        "## Principais Tipos de Média"
      ]
    },
    {
      "cell_type": "markdown",
      "metadata": {
        "id": "GiS4OoANKLu5",
        "colab_type": "text"
      },
      "source": [
        "### Média Aritmética (MA)\n",
        "- É a soma de todos os elementos do conjunto, divididos pelo número de elementos que compõe o conjunto\n",
        "\n",
        "![alt text](https://wikimedia.org/api/rest_v1/media/math/render/svg/c938ca170f8c4a5d2dddecabc5ae1d5eb5f35a2b)"
      ]
    },
    {
      "cell_type": "code",
      "metadata": {
        "id": "KUOftuRYy7U0",
        "colab_type": "code",
        "outputId": "c12c0a42-644b-4686-ea63-97d87ed7d3c4",
        "colab": {
          "base_uri": "https://localhost:8080/",
          "height": 34
        }
      },
      "source": [
        "dados = [1,2,5,3,4]\n",
        "np.mean(dados)"
      ],
      "execution_count": 2,
      "outputs": [
        {
          "output_type": "execute_result",
          "data": {
            "text/plain": [
              "3.0"
            ]
          },
          "metadata": {
            "tags": []
          },
          "execution_count": 2
        }
      ]
    },
    {
      "cell_type": "markdown",
      "metadata": {
        "id": "nttS850jbM-r",
        "colab_type": "text"
      },
      "source": [
        "### Média Geométrica (MG)\n",
        "\n",
        "- É a raíz n-ésima do produto de todos os elementos que compõe o conjunto\n",
        "\n",
        "![alt text](https://wikimedia.org/api/rest_v1/media/math/render/svg/82fb3d898a5de7ae016b07855c335ce570350410)"
      ]
    },
    {
      "cell_type": "code",
      "metadata": {
        "id": "Uv94dK5S0lS9",
        "colab_type": "code",
        "outputId": "66659c97-3169-4b3e-bcc6-1cb1ee473327",
        "colab": {
          "base_uri": "https://localhost:8080/",
          "height": 34
        }
      },
      "source": [
        "gmean(dados)"
      ],
      "execution_count": 3,
      "outputs": [
        {
          "output_type": "execute_result",
          "data": {
            "text/plain": [
              "2.6051710846973517"
            ]
          },
          "metadata": {
            "tags": []
          },
          "execution_count": 3
        }
      ]
    },
    {
      "cell_type": "markdown",
      "metadata": {
        "id": "eDTRVRAYbo3o",
        "colab_type": "text"
      },
      "source": [
        "### Média Harmônica (MH)\n",
        "\n",
        "- É o número de elementos, divididos pela soma dos inversos dos elementos que compõem o conjunto\n",
        "\n",
        "![alt text](https://wikimedia.org/api/rest_v1/media/math/render/svg/5335415727099e38ba27a1775613020dc4b584de)"
      ]
    },
    {
      "cell_type": "code",
      "metadata": {
        "id": "IrOEyK6J03yL",
        "colab_type": "code",
        "outputId": "b2450502-a6c6-4808-9143-ebb41a7a1618",
        "colab": {
          "base_uri": "https://localhost:8080/",
          "height": 34
        }
      },
      "source": [
        "hmean(dados)"
      ],
      "execution_count": 4,
      "outputs": [
        {
          "output_type": "execute_result",
          "data": {
            "text/plain": [
              "2.18978102189781"
            ]
          },
          "metadata": {
            "tags": []
          },
          "execution_count": 4
        }
      ]
    },
    {
      "cell_type": "markdown",
      "metadata": {
        "id": "mMWDUA8M2GGx",
        "colab_type": "text"
      },
      "source": [
        "## Quando Utilizar Cada Média?"
      ]
    },
    {
      "cell_type": "markdown",
      "metadata": {
        "id": "kaf331Kg2O64",
        "colab_type": "text"
      },
      "source": [
        "### Funções para Plotar Gráficos"
      ]
    },
    {
      "cell_type": "code",
      "metadata": {
        "id": "p_Ucxcjf1ERN",
        "colab_type": "code",
        "colab": {}
      },
      "source": [
        "def plot_lines(dados, valor_central):\n",
        "  if valor_central in dados:\n",
        "    posicao_central = dados.index(valor_central)+1\n",
        "  else:\n",
        "    dados.append(valor_central)\n",
        "    dados.sort()\n",
        "    posicao_central = dados.index(valor_central)+1\n",
        "  \n",
        "  posicoes = np.arange(1,len(dados)+1,1)\n",
        "  plt.figure(figsize=(8,6))\n",
        "  plt.plot(posicoes,dados,'o-', color='red',ms=15)\n",
        "  plt.plot(posicao_central, valor_central, 'o-',color='blue',ms=15)\n",
        "  plt.show()"
      ],
      "execution_count": 0,
      "outputs": []
    },
    {
      "cell_type": "code",
      "metadata": {
        "id": "Ok-i-ZFk2SzI",
        "colab_type": "code",
        "colab": {}
      },
      "source": [
        "def plot_line_means(dados, mean, gmean,hmean):\n",
        "  posicoes_centrais=[]\n",
        "  y=[]\n",
        "  x = dados\n",
        "  \n",
        "  for m in [mean,gmean,hmean]:\n",
        "    x.append(m)\n",
        "  \n",
        "  x.sort()\n",
        "  for m in [mean,gmean,hmean]:\n",
        "    if m in x:\n",
        "      posicoes_centrais.append(x.index(m)+1)\n",
        "  \n",
        "  print(\"Dados: {}\".format(x))\n",
        "  print(\"Media aritmética: {}, Média Geométrica: {}, Média Harmonica: {}\".format(mean,gmean,hmean))\n",
        "  \n",
        "  y = np.arange(1,len(x)+1,1)\n",
        "  \n",
        "  plt.figure(figsize=(8,6))\n",
        "  plt.rc('axes', prop_cycle=(cycler('color', ['r', 'g', 'b'])))\n",
        "  plt.plot(y,x,'o-', color='black',ms=15)\n",
        "  medias = ['MA','MG','MH'] \n",
        "  i=0\n",
        "  for posicao_central,valor_central in zip(posicoes_centrais,[mean,gmean,hmean]):\n",
        "    plt.plot(posicao_central, valor_central, 'o-',ms=15)\n",
        "    plt.text(x=posicao_central+0.2, y=valor_central+0.2, s=medias[i], alpha=0.7, color='#334f8d')\n",
        "    i+=1\n",
        "\n",
        "  plt.show()"
      ],
      "execution_count": 0,
      "outputs": []
    },
    {
      "cell_type": "code",
      "metadata": {
        "id": "tTuZwv7y2XU9",
        "colab_type": "code",
        "colab": {}
      },
      "source": [
        "def plot_lines_horizontal(dados,valor_central):\n",
        "  plt.figure(figsize=(10,6))\n",
        "  y = 0\n",
        "  plt.hlines(y, min(dados), max(dados))\n",
        "  for n in dados:\n",
        "    if n == valor_central:\n",
        "      plt.plot(n,y, 'o', ms = 15, color='blue')\n",
        "      continue  \n",
        "    plt.plot(n,y, 'o', ms = 15, color = 'red')"
      ],
      "execution_count": 0,
      "outputs": []
    },
    {
      "cell_type": "markdown",
      "metadata": {
        "id": "DFBUw8W043mM",
        "colab_type": "text"
      },
      "source": [
        "### Considerando Diferentes Cenários"
      ]
    },
    {
      "cell_type": "markdown",
      "metadata": {
        "id": "uYpGTWno56J7",
        "colab_type": "text"
      },
      "source": [
        "#### Cenário Linear"
      ]
    },
    {
      "cell_type": "markdown",
      "metadata": {
        "id": "1dV32Nmd1MGP",
        "colab_type": "text"
      },
      "source": [
        "Exemplo de dados gerados a partir de uma **operação de adição**, a soma do valor 3 em cada elemento do vetor (relacionamento linear)"
      ]
    },
    {
      "cell_type": "code",
      "metadata": {
        "id": "9nvyMAXP2Z58",
        "colab_type": "code",
        "colab": {}
      },
      "source": [
        "# Lista de dados com comportamento linear (soma)\n",
        "dados_linear = [1, 4, 7, 10, 13, 16, 19]"
      ],
      "execution_count": 0,
      "outputs": []
    },
    {
      "cell_type": "code",
      "metadata": {
        "id": "8NeF5SCI06Fx",
        "colab_type": "code",
        "colab": {}
      },
      "source": [
        "# Cálculo da média aritmética do conjunto de dados\n",
        "media = int(np.mean(dados_linear))"
      ],
      "execution_count": 0,
      "outputs": []
    },
    {
      "cell_type": "code",
      "metadata": {
        "id": "2d0VPC2B1yLv",
        "colab_type": "code",
        "outputId": "bda5a27e-702e-4b4a-dccb-8c8e8e19a209",
        "colab": {
          "base_uri": "https://localhost:8080/",
          "height": 34
        }
      },
      "source": [
        "# Imprimindo o valor da média\n",
        "print(\"Valor da média aritmética dos dados: {}\".format(media))"
      ],
      "execution_count": 10,
      "outputs": [
        {
          "output_type": "stream",
          "text": [
            "Valor da média aritmética dos dados: 10\n"
          ],
          "name": "stdout"
        }
      ]
    },
    {
      "cell_type": "code",
      "metadata": {
        "id": "P_RwW1Tn7YPC",
        "colab_type": "code",
        "outputId": "b49cb7d8-d473-4a45-d1be-cec38ef57526",
        "colab": {
          "base_uri": "https://localhost:8080/",
          "height": 374
        }
      },
      "source": [
        "# Plotando gráfico de linha. Observe o compostamento linear ascendente dos\n",
        "# dados. O ponto azul representa a média aritmética. Portanto, como o ponto azul\n",
        "# (média) ocupa a posição central, a média aritmética de fato é representativa\n",
        "# de uma medida (de tendência) central\n",
        "plot_lines(dados_linear,media)"
      ],
      "execution_count": 11,
      "outputs": [
        {
          "output_type": "display_data",
          "data": {
            "image/png": "[encoded data removed]",
            "text/plain": [
              "<Figure size 576x432 with 1 Axes>"
            ]
          },
          "metadata": {
            "tags": [],
            "needs_background": "light"
          }
        }
      ]
    },
    {
      "cell_type": "code",
      "metadata": {
        "id": "_h0mcgTig4Vh",
        "colab_type": "code",
        "outputId": "ffcb11fd-32c2-41ba-bbb0-6cfe70d89e73",
        "colab": {
          "base_uri": "https://localhost:8080/",
          "height": 374
        }
      },
      "source": [
        "# Plotagem de gráfico linear constante com os dados. Note que, novamente, os\n",
        "# dados são representativos de uma posição de fato central\n",
        "plot_lines_horizontal(dados_linear,media)"
      ],
      "execution_count": 12,
      "outputs": [
        {
          "output_type": "display_data",
          "data": {
            "image/png": "[encoded data removed]",
            "text/plain": [
              "<Figure size 720x432 with 1 Axes>"
            ]
          },
          "metadata": {
            "tags": [],
            "needs_background": "light"
          }
        }
      ]
    },
    {
      "cell_type": "markdown",
      "metadata": {
        "id": "0YU2-S-G8Dpo",
        "colab_type": "text"
      },
      "source": [
        "#### Cenário Exponencial"
      ]
    },
    {
      "cell_type": "markdown",
      "metadata": {
        "id": "3GIj5J5q3HdP",
        "colab_type": "text"
      },
      "source": [
        "Exemplo de dados gerados a partir de uma **operação de multiplicação**, a multiplicação de cada elemento pelo valor de 3 (relacionamento exponencial)"
      ]
    },
    {
      "cell_type": "code",
      "metadata": {
        "id": "XTNxj5PW6IWA",
        "colab_type": "code",
        "colab": {}
      },
      "source": [
        "# Dados que apresentam relacionamento exponencial entre si\n",
        "dados_exponencial = [1, 3, 9, 27, 81, 243, 729]"
      ],
      "execution_count": 0,
      "outputs": []
    },
    {
      "cell_type": "markdown",
      "metadata": {
        "id": "auhQQFgR-Jt0",
        "colab_type": "text"
      },
      "source": [
        "##### Média Aritmética de Dados Exponenciais"
      ]
    },
    {
      "cell_type": "code",
      "metadata": {
        "id": "HTglbs8M8PFW",
        "colab_type": "code",
        "colab": {}
      },
      "source": [
        "# Cálculo da média aritmética desses dados\n",
        "media = int(np.mean(dados_exponencial))"
      ],
      "execution_count": 0,
      "outputs": []
    },
    {
      "cell_type": "code",
      "metadata": {
        "id": "NRnV85pe8VEE",
        "colab_type": "code",
        "outputId": "c89f088b-1132-4fd3-8352-488c2d571a34",
        "colab": {
          "base_uri": "https://localhost:8080/",
          "height": 34
        }
      },
      "source": [
        "# Impressão do valor da média aritmética desses dados\n",
        "print(\"Valor da média aritmética dos dados: {}\".format(media))"
      ],
      "execution_count": 15,
      "outputs": [
        {
          "output_type": "stream",
          "text": [
            "Valor da média aritmética dos dados: 156\n"
          ],
          "name": "stdout"
        }
      ]
    },
    {
      "cell_type": "code",
      "metadata": {
        "id": "Vp_fI2pW8Zvv",
        "colab_type": "code",
        "outputId": "2524880f-0d69-41da-cacb-5f107fe28d77",
        "colab": {
          "base_uri": "https://localhost:8080/",
          "height": 374
        }
      },
      "source": [
        "# Plotagem de gráfico de linha. Note que o ponto azul (média aritmética) não é\n",
        "# representativo de uma medida de fato central para dados exponenciais\n",
        "plot_lines(dados_exponencial,media)"
      ],
      "execution_count": 16,
      "outputs": [
        {
          "output_type": "display_data",
          "data": {
            "image/png": "[encoded data removed]",
            "text/plain": [
              "<Figure size 576x432 with 1 Axes>"
            ]
          },
          "metadata": {
            "tags": [],
            "needs_background": "light"
          }
        }
      ]
    },
    {
      "cell_type": "code",
      "metadata": {
        "id": "aQuuqSW59Kxr",
        "colab_type": "code",
        "outputId": "5f0c2587-e12b-4339-f756-b5ccd1e19539",
        "colab": {
          "base_uri": "https://localhost:8080/",
          "height": 374
        }
      },
      "source": [
        "# Plotagem do gráfico de linha constante. Note que o ponto azul (média \n",
        "# aritmética) não é representativo de uma medida central de fato\n",
        "plot_lines_horizontal(dados_exponencial,media)"
      ],
      "execution_count": 17,
      "outputs": [
        {
          "output_type": "display_data",
          "data": {
            "image/png": "[encoded data removed]",
            "text/plain": [
              "<Figure size 720x432 with 1 Axes>"
            ]
          },
          "metadata": {
            "tags": [],
            "needs_background": "light"
          }
        }
      ]
    },
    {
      "cell_type": "markdown",
      "metadata": {
        "id": "3bx3QhR5-RQR",
        "colab_type": "text"
      },
      "source": [
        "##### Média Geométrica de Dados Exponenciais"
      ]
    },
    {
      "cell_type": "code",
      "metadata": {
        "id": "p4r3F1RF9Qa6",
        "colab_type": "code",
        "colab": {}
      },
      "source": [
        "# Dados que apresentam relação exponencial\n",
        "dados_exponencial = [1, 3, 9, 27, 81, 243, 729]"
      ],
      "execution_count": 0,
      "outputs": []
    },
    {
      "cell_type": "code",
      "metadata": {
        "id": "PVl4Pi2A-fty",
        "colab_type": "code",
        "colab": {}
      },
      "source": [
        "# Cálculo da média geométrica para os dados exponenciais\n",
        "media_geo = int(gmean(dados_exponencial))"
      ],
      "execution_count": 0,
      "outputs": []
    },
    {
      "cell_type": "code",
      "metadata": {
        "id": "m5_hiXTd-ouL",
        "colab_type": "code",
        "outputId": "b8d5f817-f85d-4a4c-e791-15b626c39a10",
        "colab": {
          "base_uri": "https://localhost:8080/",
          "height": 34
        }
      },
      "source": [
        "# Impressão do resultado da média geométrica para os dados exponenciais\n",
        "print(\"Valor da média geométrica dos dados: {}\".format(media_geo))"
      ],
      "execution_count": 20,
      "outputs": [
        {
          "output_type": "stream",
          "text": [
            "Valor da média geométrica dos dados: 27\n"
          ],
          "name": "stdout"
        }
      ]
    },
    {
      "cell_type": "code",
      "metadata": {
        "id": "MaN21V6P-vlz",
        "colab_type": "code",
        "outputId": "c3477344-6c25-46b3-eab8-10fc574525ba",
        "colab": {
          "base_uri": "https://localhost:8080/",
          "height": 374
        }
      },
      "source": [
        "# Plotagem do gráfico de linha. Note que o ponto azul (média geométrica) não é\n",
        "# tão influenciado pelos extremos quanto a média aritmética\n",
        "plot_lines(dados_exponencial,media_geo)"
      ],
      "execution_count": 21,
      "outputs": [
        {
          "output_type": "display_data",
          "data": {
            "image/png": "[encoded data removed]",
            "text/plain": [
              "<Figure size 576x432 with 1 Axes>"
            ]
          },
          "metadata": {
            "tags": [],
            "needs_background": "light"
          }
        }
      ]
    },
    {
      "cell_type": "code",
      "metadata": {
        "id": "t4_gUNLo-1Vq",
        "colab_type": "code",
        "outputId": "b33ffe9c-6da9-44ab-d3a2-f82ce2e0d6b8",
        "colab": {
          "base_uri": "https://localhost:8080/",
          "height": 374
        }
      },
      "source": [
        "# Plotagem do gráfico de linha constante. Note que para o caso de dados\n",
        "# exponenciais, a média geométrica é representativa de uma medida central\n",
        "plot_lines_horizontal(dados_exponencial,media_geo)"
      ],
      "execution_count": 22,
      "outputs": [
        {
          "output_type": "display_data",
          "data": {
            "image/png": "[encoded data removed]",
            "text/plain": [
              "<Figure size 720x432 with 1 Axes>"
            ]
          },
          "metadata": {
            "tags": [],
            "needs_background": "light"
          }
        }
      ]
    },
    {
      "cell_type": "markdown",
      "metadata": {
        "id": "DvM1mXke8Ajo",
        "colab_type": "text"
      },
      "source": [
        "### Considerações importantes\n",
        "\n",
        "*   A **média aritmética** produz um resultado interessante quando temos um **relacionamento aditivo** entre os números da amostra.\n",
        "*   Este relacionamento é chamado linear pois, ao exibir graficamente os valores tendem a seguir uma linha ascendente ou descendente.\n",
        "*   Já a **média geométrica** é mais apropriada quando temos uma amostra com um **relacionamento multiplicativo** ou exponencial.\n",
        "\n",
        "\n",
        "*   A diferença entre as médias é que enquanto a média aritmética faz a **soma** de todos os elementos e depois a **divisão**, a média geométrica atua com a **multiplicação** entre os elementos e depois reescala através da **raiz** os valores para a mesma unidade da amostra.\n",
        "\n",
        "\n",
        "\n",
        "\n",
        "\n",
        "\n"
      ]
    },
    {
      "cell_type": "markdown",
      "metadata": {
        "id": "tDCBy7V1AqKJ",
        "colab_type": "text"
      },
      "source": [
        "# Aula 08 - Diferenças entre Média Aritmética, Geométrica e Harmônica"
      ]
    },
    {
      "cell_type": "markdown",
      "metadata": {
        "id": "hOX4MOkiCiT4",
        "colab_type": "text"
      },
      "source": [
        "## Comparando as médidas em um cenário real.\n",
        "\n",
        "- Verificando os valores de avaliações de dois cafés: \n",
        "    - Hard Rock Café Gramado x Hard Rock Café Curitiba.\n"
      ]
    },
    {
      "cell_type": "markdown",
      "metadata": {
        "id": "U4tXULdhEuW4",
        "colab_type": "text"
      },
      "source": [
        "**Hard Rock Café Gramado**\n",
        "*   Avaliações no TripAdvisor: 3,5\n",
        "*   Índice de Satisfação dos Clientes: 89%\n",
        "\n",
        "**Hard Rock Café Curitiba**\n",
        "*   Avaliaçõs no TripAdvisor: 4,5\n",
        "*   Índice de Satisfação dos Clientes: 75%\n"
      ]
    },
    {
      "cell_type": "markdown",
      "metadata": {
        "id": "-i2QEatRKVDF",
        "colab_type": "text"
      },
      "source": [
        "## Aplicação de verificar o estabelecimento com a melhor avaliação em diferentes escalas\n",
        "\n",
        "- Temos escalas de (0 - 5) e (0 - 100)"
      ]
    },
    {
      "cell_type": "markdown",
      "metadata": {
        "id": "DPjxJYAbK86Q",
        "colab_type": "text"
      },
      "source": [
        "### Cálculo da Média Aritmética\n",
        "\n",
        "- A partir do cálculo da média aritmética para cada lugar, o estabelecimento de Gramado é melhor avaliado\n",
        "- A média aritmética não é adequada para esse caso, pois os valores encontram-se em escalas diferentes"
      ]
    },
    {
      "cell_type": "code",
      "metadata": {
        "id": "YYMXD5yJKXi7",
        "colab_type": "code",
        "colab": {}
      },
      "source": [
        "# Declaração de 4 variáveis. Duas de cada vez\n",
        "aval_gramado,aval_curitiba = 3.5, 4.5\n",
        "indice_gramado,indice_curitiba = 89, 75"
      ],
      "execution_count": 0,
      "outputs": []
    },
    {
      "cell_type": "code",
      "metadata": {
        "id": "V0c3G54FLn3o",
        "colab_type": "code",
        "colab": {
          "base_uri": "https://localhost:8080/",
          "height": 50
        },
        "outputId": "0d63278a-2835-4a45-d08f-152414bbb1da"
      },
      "source": [
        "# Imprimindo o valor das média aritméticas para cada estabelecimento\n",
        "# Aparentemente, o Café de Gramado tem uma avaliação melhor\n",
        "# Entretanto, como os valores apresentam-se em escalas diferentes, a média\n",
        "# aritmética não é o valor mais coerente para realizar essa avaliação\n",
        "print(\"Média para Gramado: {}\".format(np.mean([aval_gramado,indice_gramado])))\n",
        "print(\"Média para Curitiba: {}\".format(np.mean([aval_curitiba,indice_curitiba])))"
      ],
      "execution_count": 24,
      "outputs": [
        {
          "output_type": "stream",
          "text": [
            "Média para Gramado: 46.25\n",
            "Média para Curitiba: 39.75\n"
          ],
          "name": "stdout"
        }
      ]
    },
    {
      "cell_type": "markdown",
      "metadata": {
        "id": "mlIuNQAkS3_u",
        "colab_type": "text"
      },
      "source": [
        "### Cálculo da Média Aritmética dos valores reescalados\n",
        "\n",
        "- Com os valores reescalados, o estabelecimento de Curitiba apresenta melhor avaliação"
      ]
    },
    {
      "cell_type": "code",
      "metadata": {
        "id": "xtLz8oo4LrLF",
        "colab_type": "code",
        "colab": {
          "base_uri": "https://localhost:8080/",
          "height": 34
        },
        "outputId": "228bd951-a752-4445-bdfd-ab3104f504f7"
      },
      "source": [
        "# Vamos fazer uma reescala dos valores, para adequar os valores da escala 0-5\n",
        "# para a escala 0-100. Para isso, basta multiplicarmos os valores por 20\n",
        "print(\"Valores reescalados: {},{}\".format(aval_gramado*20,aval_curitiba*20))"
      ],
      "execution_count": 26,
      "outputs": [
        {
          "output_type": "stream",
          "text": [
            "Valores reescalados: 70.0,90.0\n"
          ],
          "name": "stdout"
        }
      ]
    },
    {
      "cell_type": "code",
      "metadata": {
        "id": "-sou-MO1T8zK",
        "colab_type": "code",
        "colab": {
          "base_uri": "https://localhost:8080/",
          "height": 50
        },
        "outputId": "5e5ee6fb-3b48-44b5-ea9c-bdec85b42dca"
      },
      "source": [
        "# Cálculo da média aritmética agora com os valores reescalados\n",
        "print(\"Média para Gramado: {}\".format(np.mean([aval_gramado*20,indice_gramado])))\n",
        "print(\"Média para Curitiba: {}\".format(np.mean([aval_curitiba*20,indice_curitiba])))"
      ],
      "execution_count": 27,
      "outputs": [
        {
          "output_type": "stream",
          "text": [
            "Média para Gramado: 79.5\n",
            "Média para Curitiba: 82.5\n"
          ],
          "name": "stdout"
        }
      ]
    },
    {
      "cell_type": "markdown",
      "metadata": {
        "id": "3td6cbYJUOA8",
        "colab_type": "text"
      },
      "source": [
        "### Cálculo da Média Geométrica\n",
        "\n",
        "- Através do cálculo da média geométrica, o estabelecimento de Curitiba apresenta melhor avaliação (assim como para a média aritmética dos valores reescalados)\n",
        "- Como os valores se encontram em escalas distintas, a média geométrica é muito mais assertiva para comparar os estabelecimentos do que a média aritmética\n",
        "- A média geométrica de fato apresentou o estabelecimento de melhor avaliação, mas os valores obtidos através dela não são interpretáveis, no sentido de não estar na mesma unidade dos valores de input\n",
        "- Caso a média aritmética fosse a escolhida para ser utilizada, deve-se adequar a escala dos valores antes de calculá-la para comparar os estabelecimentos. Nessa situação, ela retornaria o resultado correto do estabelecimento melhor avaliado e os resultados seriam interpretáveis (mesma unidade dos valores de input)"
      ]
    },
    {
      "cell_type": "code",
      "metadata": {
        "id": "65eEsLrVUK6L",
        "colab_type": "code",
        "colab": {
          "base_uri": "https://localhost:8080/",
          "height": 50
        },
        "outputId": "c86a5654-2bb2-410d-d7c9-98b4e2ef5368"
      },
      "source": [
        "# Cálculo da média geométrica para cada estabelecimento, sem que os valores\n",
        "# estejam reescalados\n",
        "print(\"Média Geométrica para Gramado: {}\".format(gmean([aval_gramado,indice_gramado])))\n",
        "print(\"Média Geométrica para Curitiba: {}\".format(gmean([aval_curitiba,indice_curitiba])))"
      ],
      "execution_count": 30,
      "outputs": [
        {
          "output_type": "stream",
          "text": [
            "Média Geométrica para Gramado: 17.64936259472279\n",
            "Média Geométrica para Curitiba: 18.371173070873837\n"
          ],
          "name": "stdout"
        }
      ]
    },
    {
      "cell_type": "markdown",
      "metadata": {
        "id": "VA_3GtxfDh4W",
        "colab_type": "text"
      },
      "source": [
        "### Considerações\n",
        "*   Os valores alterados para a mesma escala nos deram **resultados diferentes** mais próximos da realidade\n",
        "*   Utilizando a média geométrica já nos entrega o resultado \"correto\" pois considera o **relacionamento multiplicativo** entre os dados da amostra\n",
        "*   É importante notar que aplicando a média geométrica para os dados em **diferentes escalas** o retorno não está na mesma unidade da amostra\n",
        "\n",
        "\n"
      ]
    },
    {
      "cell_type": "markdown",
      "metadata": {
        "id": "DEulX-NDWzhf",
        "colab_type": "text"
      },
      "source": [
        "# Aula 09 - Estudo de Caso sobre Média Harmônica"
      ]
    },
    {
      "cell_type": "markdown",
      "metadata": {
        "id": "RlTZ7Bi9LQiB",
        "colab_type": "text"
      },
      "source": [
        "## Qual é a Velocidade Média de toda a Viagem?\n",
        "\n",
        "![alt text](https://images.unsplash.com/photo-1469854523086-cc02fe5d8800?ixlib=rb-1.2.1&ixid=eyJhcHBfaWQiOjEyMDd9&auto=format&fit=crop&w=500&q=60)\n",
        "\n",
        "\n",
        "Percurso Total da Viagem 10km\n",
        "*   CAMINHO DE IDA = 30km/h\n",
        "*   CAMINHO DE VOLTA = 10km/h\n",
        "\n",
        "Utilizando d = v.t, teríamos:\n",
        "\n",
        "IDA:\n",
        "\n",
        "  - 5 = 30.t\n",
        "    - t = 0.17 h\n",
        "\n",
        "VOLTA:\n",
        "\n",
        "  - 5 = 10.t\n",
        "    - t = 0.5 h\n",
        "\n",
        "Velocidade média da viagem:\n",
        "\n",
        "- v = 10 / 0.67 ~ **14.9 Km/h**\n",
        "\n",
        "\n"
      ]
    },
    {
      "cell_type": "markdown",
      "metadata": {
        "id": "YVDJTOEhXp3Y",
        "colab_type": "text"
      },
      "source": [
        "## Cálculo da Média Aritmética\n",
        "\n",
        "- Como a velocidade é uma variável NÃO ADITIVA (é uma razão), não faz sentido físico tirar a média aritmética"
      ]
    },
    {
      "cell_type": "code",
      "metadata": {
        "id": "PwAqPW3DUdmO",
        "colab_type": "code",
        "colab": {
          "base_uri": "https://localhost:8080/",
          "height": 34
        },
        "outputId": "6eb9400e-b55f-4d9e-826f-e7b9cc8a9dbb"
      },
      "source": [
        "print(\"A média aritmética é: {} Km/h\".format(np.mean([30,10])))"
      ],
      "execution_count": 34,
      "outputs": [
        {
          "output_type": "stream",
          "text": [
            "A média aritmética é: 20.0 Km/h\n"
          ],
          "name": "stdout"
        }
      ]
    },
    {
      "cell_type": "markdown",
      "metadata": {
        "id": "zvOI23JubOyP",
        "colab_type": "text"
      },
      "source": [
        "## Cálculo da Média Ponderada"
      ]
    },
    {
      "cell_type": "markdown",
      "metadata": {
        "id": "cghcGoqIafh2",
        "colab_type": "text"
      },
      "source": [
        "### Cálculo da Proporção do Tempo de Viagem gasto para a ida e para a volta\n",
        "\n",
        "- Considerando que na ida gastou-se ~ 10 min e, na volta, ~ 30 min (cálculo feito no d = v.t). O total de tempo da viagem é de 40 min"
      ]
    },
    {
      "cell_type": "code",
      "metadata": {
        "id": "JYwr0rOZX2c2",
        "colab_type": "code",
        "colab": {
          "base_uri": "https://localhost:8080/",
          "height": 50
        },
        "outputId": "d7391da5-687f-4c24-fbec-5c79aab4282c"
      },
      "source": [
        "print(\"Proporção de tempo da viagem de ida em relação ao tempo total da viagem: {}%\".format((10/40)*100))\n",
        "print(\"Proporção de tempo da viagem de volta em relação ao tempo total da viagem: {}%\".format((30/40)*100))"
      ],
      "execution_count": 35,
      "outputs": [
        {
          "output_type": "stream",
          "text": [
            "Proporção de tempo da viagem de ida em relação ao tempo total da viagem: 25.0%\n",
            "Proporção de tempo da viagem de volta em relação ao tempo total da viagem: 75.0%\n"
          ],
          "name": "stdout"
        }
      ]
    },
    {
      "cell_type": "markdown",
      "metadata": {
        "id": "q3hxRqjVbcyg",
        "colab_type": "text"
      },
      "source": [
        "### Média Ponderada\n",
        "\n",
        "- Os pesos da média ponderada são dados em termos da proporção do tempo de viagem para ida e volta\n",
        "- O resultado retornado pela média ponderada é correto, pois há uma ponderação pelo tempo de viagem gasto nas viagens de ida e volta"
      ]
    },
    {
      "cell_type": "code",
      "metadata": {
        "id": "lm7Tb6IyaaDn",
        "colab_type": "code",
        "colab": {
          "base_uri": "https://localhost:8080/",
          "height": 34
        },
        "outputId": "82bf4135-5d96-49c4-ed41-52bf71611470"
      },
      "source": [
        "print(\"Velocidade Média Total = {} Km/h\".format(np.average([30,10], weights=[.25,.75])))"
      ],
      "execution_count": 37,
      "outputs": [
        {
          "output_type": "stream",
          "text": [
            "Velocidade Média Total = 15.0 Km/h\n"
          ],
          "name": "stdout"
        }
      ]
    },
    {
      "cell_type": "markdown",
      "metadata": {
        "id": "xhLEiYcOcIM8",
        "colab_type": "text"
      },
      "source": [
        "## Cálculo da Média Harmônica\n",
        "\n",
        "- A média harmônica já leva em consideração as ponderações e portanto retorna um resultado mais adequado para a velocidade média\n",
        "- A média harmônica pode ser utilizada para situações em que devemos ponderar o cálculo do valor média por alguma variável\n",
        "- A média harmônica pode ser utilizada para se tirar média de variáveis que são razões"
      ]
    },
    {
      "cell_type": "code",
      "metadata": {
        "id": "Xdiq3Tq-bq6j",
        "colab_type": "code",
        "colab": {
          "base_uri": "https://localhost:8080/",
          "height": 34
        },
        "outputId": "deb37998-90e8-467b-8e08-9b3859e00086"
      },
      "source": [
        "print(\"Velocidade Média Total = {} Km/h\".format(hmean([30,10])))"
      ],
      "execution_count": 41,
      "outputs": [
        {
          "output_type": "stream",
          "text": [
            "Velocidade Média Total = 15.0 Km/h\n"
          ],
          "name": "stdout"
        }
      ]
    },
    {
      "cell_type": "markdown",
      "metadata": {
        "id": "4uICtgwUfEiJ",
        "colab_type": "text"
      },
      "source": [
        "# Resumo"
      ]
    },
    {
      "cell_type": "markdown",
      "metadata": {
        "id": "OBxX7p1QfIce",
        "colab_type": "text"
      },
      "source": [
        "## Bibliotecas Principais\n",
        "\n",
        " - from scipy.stats.mstats import gmean,hmean\n",
        " - from scipy import stats\n",
        "\n",
        " - import numpy as np"
      ]
    },
    {
      "cell_type": "markdown",
      "metadata": {
        "id": "8TTcIhPofZ7R",
        "colab_type": "text"
      },
      "source": [
        "## np.mean( [x1,x2,x3,...,xn] ) - Média Aritmética\n",
        "\n",
        "- Utilizada para variáveis que apresentam relações aditivas"
      ]
    },
    {
      "cell_type": "markdown",
      "metadata": {
        "id": "VywoAEpOfpdY",
        "colab_type": "text"
      },
      "source": [
        "## gmean ( [x1,x2,x3,...,xn] ) - Média Geométrica\n",
        "\n",
        "- Utilizada para variáveis que apresentam relações multiplicativas e exponenciais\n",
        "\n",
        "- Utilizada quando quer se tirar média de valores em escalas diferentes"
      ]
    },
    {
      "cell_type": "markdown",
      "metadata": {
        "id": "bGrYYAChf1IG",
        "colab_type": "text"
      },
      "source": [
        "## hmean ( [x1,x2,x3,...,xn] ) - Média Harmônica\n",
        "\n",
        "- Utilizada para variáveis que apresentam relações de divisão (razões em geral, p.e. Ca/Mg, V)\n",
        "\n",
        "\n",
        "\n"
      ]
    },
    {
      "cell_type": "code",
      "metadata": {
        "id": "GOdY3nOAhJTJ",
        "colab_type": "code",
        "colab": {}
      },
      "source": [
        ""
      ],
      "execution_count": 0,
      "outputs": []
    }
  ]
}