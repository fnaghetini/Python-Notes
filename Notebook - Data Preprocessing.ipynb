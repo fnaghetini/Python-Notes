{
  "nbformat": 4,
  "nbformat_minor": 0,
  "metadata": {
    "colab": {
      "name": "Notebook Franco - Data Preprocessing.ipynb",
      "provenance": [],
      "collapsed_sections": [],
      "toc_visible": true
    },
    "kernelspec": {
      "name": "python3",
      "display_name": "Python 3"
    }
  },
  "cells": [
    {
      "cell_type": "markdown",
      "metadata": {
        "id": "KTaMWTK6DR2r",
        "colab_type": "text"
      },
      "source": [
        "# Aula 10 - O Que É Pré-Processamento de Dados"
      ]
    },
    {
      "cell_type": "markdown",
      "metadata": {
        "id": "yY-2RpPxDwUD",
        "colab_type": "text"
      },
      "source": [
        "## Principais Técnicas de Pré-Processamento de Dados\n",
        "\n",
        "- Detecção de Anomalias\n",
        "- Discretização ou Binarização\n",
        "- Normalização\n",
        "- Standardization (Padronização)\n",
        "\n",
        "## Modelgem de Dados\n",
        "\n",
        "- Bag of Words"
      ]
    },
    {
      "cell_type": "markdown",
      "metadata": {
        "id": "oM7mJxa8EQH0",
        "colab_type": "text"
      },
      "source": [
        "## Detecção de Anomalias\n",
        "\n",
        "- Detectar anomalias nos conjuntos de dados é de extrema importância para o sucesso de qualquer projeto de Data Science\n",
        "- Anomalias nada mais são que valores discrepantes (outliers) que, normalmente, não correspondem à realidade\n",
        "- Principais motivos que resultam em anomalias/outliers:\n",
        "  - Erros de coleta e armazenamento de dados\n",
        "  - Erros durante conversões e transformações de dados\n",
        "  - Etc."
      ]
    },
    {
      "cell_type": "markdown",
      "metadata": {
        "id": "5x4_B5tHFOqk",
        "colab_type": "text"
      },
      "source": [
        "## Discretização\n",
        "\n",
        "- Discretização de dados é um técnica que consiste em transformar valores numéricos em valores nominais ou discretos que possam representar melhor os dados\n",
        "- Através da Discretização é possível utilizar algoritmos que não trabalham com valores numéricos já que os dados são transformados em valores discretos\n",
        "- No exemplo abaixo, os valores numéricos de altura foram tranformados em classes (bins) categóricas (ordinais, mas poderia serem nominais também)\n",
        "\n",
        "![image.png](data:image/png;base64,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)"
      ]
    },
    {
      "cell_type": "markdown",
      "metadata": {
        "id": "Y6Zv4SuFGIxX",
        "colab_type": "text"
      },
      "source": [
        "## Normalização\n",
        "\n",
        "- Normalizar dados de forma bem simples significa aplicar uma mesma norma ao dados\n",
        "- Um passo importante antes de executar algoritmos de Machine Learning"
      ]
    },
    {
      "cell_type": "markdown",
      "metadata": {
        "id": "vtJvSyg0P8dG",
        "colab_type": "text"
      },
      "source": [
        "## Standardization (Padronização)\n",
        "\n",
        "- Standartization ou padronização é a re-escala dos dados numéricos dentro de uma faixa baseado em alguns critérios\n",
        "- Essa técnica, na prática, ignora a forma da distribuição e transforma o dado para forma com média próxima de zero e um desvio padrão próximo a um, ou seja, assume que não temos valores discrepantes nos dados\n",
        "- Técnica praticamente obrigatória para algoritmos de Clusterização e para aqueles associados à distância"
      ]
    },
    {
      "cell_type": "markdown",
      "metadata": {
        "id": "5yD84CIJQiGp",
        "colab_type": "text"
      },
      "source": [
        "## Bag of Words (Saco de Dados)\n",
        "\n",
        "- É um tipo de modelagem de dados\n",
        "- Representação simples onde as palavras em uma sentença são representadas através de um vetor\n",
        "- Exemplo: com as sentenças abaixo:\n",
        "  - Este celular é um produto excelente\n",
        "  - O celular do João é um iphone\n",
        "- Pega cada palavra de uma frase e transforma em um atributo (tipo o get dummies)\n",
        "  - = 1 --> esse atributo (palavra) está está na frase\n",
        "  - = 0 --> esse atributo (palavra) não está está na frase\n",
        "- Constroi-se uma tabela com essas variáveis, cujos valores são 0 ou 1\n",
        "\n"
      ]
    },
    {
      "cell_type": "markdown",
      "metadata": {
        "id": "kC6ZnTdYSNMH",
        "colab_type": "text"
      },
      "source": [
        "### Variação do método Bag of Words - N-Gram\n",
        "\n",
        "- Cada atributo passa a ser mais de uma palavra (N é o número de palavras por atributo) ao invés de uma\n",
        "- Os valores continuam sendo 0 (ausente na frase) e 1 (presente na frase)"
      ]
    },
    {
      "cell_type": "markdown",
      "metadata": {
        "id": "NgWIUFgiTAJO",
        "colab_type": "text"
      },
      "source": [
        "# Aula 11 - Detecção e Tratamento de Anomalias"
      ]
    },
    {
      "cell_type": "markdown",
      "metadata": {
        "id": "6Pkx6-At4veZ",
        "colab_type": "text"
      },
      "source": [
        "## Criação de um Dataset para Simulação de Anomalias"
      ]
    },
    {
      "cell_type": "code",
      "metadata": {
        "id": "ryKMK2l4EIC2",
        "colab_type": "code",
        "colab": {}
      },
      "source": [
        "# Importação da biblioteca Numpy\n",
        "import numpy as np"
      ],
      "execution_count": 0,
      "outputs": []
    },
    {
      "cell_type": "code",
      "metadata": {
        "id": "sbdXk5kU45GD",
        "colab_type": "code",
        "colab": {
          "base_uri": "https://localhost:8080/",
          "height": 134
        },
        "outputId": "edc63f36-7b89-4ad5-dba3-7e1974421290"
      },
      "source": [
        "# Criação de um array a partir de uma lista numérica\n",
        "dados = [10, 386, 479, 627, 20, 523, 482, 483, 542, 699, 535, 617, 577, 471, 615, 583, 441, 562, 563, 527, \n",
        "       453, 530, 433, 541, 585, 704, 443, 569, 430, 637, 331, 511, 552, 496, 484, 566, 554, 472, 335, \n",
        "       440, 579, 341, 545, 615, 548, 604, 439, 556, 442, 461, 624, 611, 444, 578, 405, 487, 490, 496, 398, \n",
        "       512, 422, 455, 449, 432, 607, 679, 434, 597, 639, 565, 415, 486, 668, 414, 665, 763, 557, 304, 404, 454, \n",
        "       689, 610, 483, 441, 657, 590, 492, 476, 437, 483, 529, 363, 711, 543,30, 1300, 1350, 1400]\n",
        "\n",
        "dados = np.array(dados)\n",
        "print(dados)"
      ],
      "execution_count": 3,
      "outputs": [
        {
          "output_type": "stream",
          "text": [
            "[  10  386  479  627   20  523  482  483  542  699  535  617  577  471\n",
            "  615  583  441  562  563  527  453  530  433  541  585  704  443  569\n",
            "  430  637  331  511  552  496  484  566  554  472  335  440  579  341\n",
            "  545  615  548  604  439  556  442  461  624  611  444  578  405  487\n",
            "  490  496  398  512  422  455  449  432  607  679  434  597  639  565\n",
            "  415  486  668  414  665  763  557  304  404  454  689  610  483  441\n",
            "  657  590  492  476  437  483  529  363  711  543   30 1300 1350 1400]\n"
          ],
          "name": "stdout"
        }
      ]
    },
    {
      "cell_type": "markdown",
      "metadata": {
        "id": "HpiO_YeD6A79",
        "colab_type": "text"
      },
      "source": [
        "## Visualização das Anomalias via Boxplot"
      ]
    },
    {
      "cell_type": "code",
      "metadata": {
        "id": "2eD4xlj-5Ltm",
        "colab_type": "code",
        "colab": {
          "base_uri": "https://localhost:8080/",
          "height": 268
        },
        "outputId": "9852489b-e7b6-46bc-de37-6b9d32eedeac"
      },
      "source": [
        "%matplotlib inline\n",
        "import seaborn as sns\n",
        "sns.set(style=\"whitegrid\", color_codes=True)\n",
        "sns.boxplot(data=dados); # O \";\" serve para não imprimir as mensagens"
      ],
      "execution_count": 17,
      "outputs": [
        {
          "output_type": "display_data",
          "data": {
            "image/png": "[encoded data removed]",
            "text/plain": [
              "<Figure size 432x288 with 1 Axes>"
            ]
          },
          "metadata": {
            "tags": []
          }
        }
      ]
    },
    {
      "cell_type": "markdown",
      "metadata": {
        "id": "c69urtig6Wyj",
        "colab_type": "text"
      },
      "source": [
        "## Cálculo da Média e Desvio Padrão"
      ]
    },
    {
      "cell_type": "code",
      "metadata": {
        "id": "acGeYYIC6I-f",
        "colab_type": "code",
        "colab": {
          "base_uri": "https://localhost:8080/",
          "height": 34
        },
        "outputId": "aa1e95b4-9794-4422-ecc7-9e5407fcd075"
      },
      "source": [
        "# Cálculo da média dos valores pertencentes ao array\n",
        "media = np.mean (dados,axis=0) # axis = 0 (default) --> tira a média da linha de valores\n",
        "media                          # axis = 1 --> tira a média da coluna de valores\n",
        "                               # Entretanto, o array é formado por 1 linha, apenas"
      ],
      "execution_count": 11,
      "outputs": [
        {
          "output_type": "execute_result",
          "data": {
            "text/plain": [
              "530.3673469387755"
            ]
          },
          "metadata": {
            "tags": []
          },
          "execution_count": 11
        }
      ]
    },
    {
      "cell_type": "code",
      "metadata": {
        "id": "ihiUUt5R6jbK",
        "colab_type": "code",
        "colab": {
          "base_uri": "https://localhost:8080/",
          "height": 34
        },
        "outputId": "edfbdd1a-c6b0-430c-a350-480b21e896e9"
      },
      "source": [
        "# Cálculo do DP dos valores pertencentes ao array\n",
        "std = np.std(dados,axis=0)\n",
        "std"
      ],
      "execution_count": 9,
      "outputs": [
        {
          "output_type": "execute_result",
          "data": {
            "text/plain": [
              "192.51166875607043"
            ]
          },
          "metadata": {
            "tags": []
          },
          "execution_count": 9
        }
      ]
    },
    {
      "cell_type": "markdown",
      "metadata": {
        "id": "Rz9wvj8C7yxW",
        "colab_type": "text"
      },
      "source": [
        "## Cálculo das Fronteiras dos Outliers\n",
        "\n",
        "- No caso, utilizaremos a seguinte definição de outliers (valores muito abaixo/acima da média):\n",
        "  - Valores > media + 2DP\n",
        "  - Valores < media - 2DP"
      ]
    },
    {
      "cell_type": "markdown",
      "metadata": {
        "id": "T1Bk9lXB8Ed1",
        "colab_type": "text"
      },
      "source": [
        "### Cálculo da Fronteira Inferior\n",
        "\n",
        "- Valores < media - 2DP"
      ]
    },
    {
      "cell_type": "code",
      "metadata": {
        "id": "bHL7I4ci6zfh",
        "colab_type": "code",
        "colab": {
          "base_uri": "https://localhost:8080/",
          "height": 34
        },
        "outputId": "9a4341d7-4cf9-4522-d0c1-4ab2efa56e2b"
      },
      "source": [
        "lim_inf = media - (2 * std)\n",
        "lim_inf"
      ],
      "execution_count": 12,
      "outputs": [
        {
          "output_type": "execute_result",
          "data": {
            "text/plain": [
              "145.34400942663467"
            ]
          },
          "metadata": {
            "tags": []
          },
          "execution_count": 12
        }
      ]
    },
    {
      "cell_type": "markdown",
      "metadata": {
        "id": "SDJo7STy8ZfV",
        "colab_type": "text"
      },
      "source": [
        "### Cálculo da Fronteira Superior\n",
        "\n",
        "- Valores > media + 2DP"
      ]
    },
    {
      "cell_type": "code",
      "metadata": {
        "id": "vuknVFKB8Xg9",
        "colab_type": "code",
        "colab": {
          "base_uri": "https://localhost:8080/",
          "height": 34
        },
        "outputId": "762665a9-91b9-45a3-99e9-4690f24e3c7c"
      },
      "source": [
        "lim_sup = media + (2 * std)\n",
        "lim_sup"
      ],
      "execution_count": 13,
      "outputs": [
        {
          "output_type": "execute_result",
          "data": {
            "text/plain": [
              "915.3906844509164"
            ]
          },
          "metadata": {
            "tags": []
          },
          "execution_count": 13
        }
      ]
    },
    {
      "cell_type": "markdown",
      "metadata": {
        "id": "yAvhgAok8uQB",
        "colab_type": "text"
      },
      "source": [
        "## Listagem de Outliers\n",
        "\n",
        "- Aqui, descobriremos os outliers/anomalias INFERIORES e SUPERIORES"
      ]
    },
    {
      "cell_type": "markdown",
      "metadata": {
        "id": "T8DkfZtl87Cb",
        "colab_type": "text"
      },
      "source": [
        "### Listagem de Anomalias Inferiores\n",
        "\n",
        "- Valores menores que **media - 2DP**"
      ]
    },
    {
      "cell_type": "code",
      "metadata": {
        "id": "clgpJGJt8m2d",
        "colab_type": "code",
        "colab": {
          "base_uri": "https://localhost:8080/",
          "height": 34
        },
        "outputId": "6fc8ae9b-69f4-44f4-a9b6-f7697bd2edda"
      },
      "source": [
        "for x in dados:\n",
        "  if x < (media - (2*std)):\n",
        "    print (x, end=',')\n"
      ],
      "execution_count": 15,
      "outputs": [
        {
          "output_type": "stream",
          "text": [
            "10,20,30,"
          ],
          "name": "stdout"
        }
      ]
    },
    {
      "cell_type": "markdown",
      "metadata": {
        "id": "yL503HZm9ANL",
        "colab_type": "text"
      },
      "source": [
        "### Listagem de Anomalias Superiores\n",
        "\n",
        "- Valores maiores que **media + 2DP**"
      ]
    },
    {
      "cell_type": "code",
      "metadata": {
        "id": "oXE6dgpv9DEW",
        "colab_type": "code",
        "colab": {
          "base_uri": "https://localhost:8080/",
          "height": 34
        },
        "outputId": "7d959d2b-4041-4576-e6e4-9cd81b176ec8"
      },
      "source": [
        "for x in dados:\n",
        "  if x > (media + (2*std)):\n",
        "    print (x,end=',')"
      ],
      "execution_count": 16,
      "outputs": [
        {
          "output_type": "stream",
          "text": [
            "1300,1350,1400,"
          ],
          "name": "stdout"
        }
      ]
    },
    {
      "cell_type": "markdown",
      "metadata": {
        "id": "ygtqHgz--Qp6",
        "colab_type": "text"
      },
      "source": [
        "## Remoção de Anomalias/Outliers Inferiores e Superiores\n",
        "\n",
        "- Remoção de valores menores que media - 2DP\n",
        "- Remoção de valores maiores que media + 2DP"
      ]
    },
    {
      "cell_type": "markdown",
      "metadata": {
        "id": "AtUWOsvd-iDT",
        "colab_type": "text"
      },
      "source": [
        "### Remoção de Anomalias Inferiores\n",
        "\n",
        "- Remoção de valores menores que media - 2DP"
      ]
    },
    {
      "cell_type": "code",
      "metadata": {
        "id": "k-0QT6_99-YX",
        "colab_type": "code",
        "colab": {
          "base_uri": "https://localhost:8080/",
          "height": 54
        },
        "outputId": "2d02cac8-26cd-4328-da39-4cdc94d1fe54"
      },
      "source": [
        "# Atualização dos dados com a exclusão dos outliers inferiores\n",
        "dados = [x for x in dados if (x > media - (2*std))]\n",
        "print(dados)"
      ],
      "execution_count": 19,
      "outputs": [
        {
          "output_type": "stream",
          "text": [
            "[386, 479, 627, 523, 482, 483, 542, 699, 535, 617, 577, 471, 615, 583, 441, 562, 563, 527, 453, 530, 433, 541, 585, 704, 443, 569, 430, 637, 331, 511, 552, 496, 484, 566, 554, 472, 335, 440, 579, 341, 545, 615, 548, 604, 439, 556, 442, 461, 624, 611, 444, 578, 405, 487, 490, 496, 398, 512, 422, 455, 449, 432, 607, 679, 434, 597, 639, 565, 415, 486, 668, 414, 665, 763, 557, 304, 404, 454, 689, 610, 483, 441, 657, 590, 492, 476, 437, 483, 529, 363, 711, 543, 1300, 1350, 1400]\n"
          ],
          "name": "stdout"
        }
      ]
    },
    {
      "cell_type": "markdown",
      "metadata": {
        "id": "Zxo4inEN-naa",
        "colab_type": "text"
      },
      "source": [
        "### Remoção de Anomalias Superiores\n",
        "\n",
        "- Remoção de valores maiores que media + 2DP"
      ]
    },
    {
      "cell_type": "code",
      "metadata": {
        "id": "S32vhya1-p8Z",
        "colab_type": "code",
        "colab": {
          "base_uri": "https://localhost:8080/",
          "height": 54
        },
        "outputId": "e516881a-bab9-4ee1-ebae-46fc14375391"
      },
      "source": [
        "# Atualização dos dados com a exclusão dos outliers superiores\n",
        "dados = [x for x in dados if (x < media + (2*std))]\n",
        "print (dados)"
      ],
      "execution_count": 20,
      "outputs": [
        {
          "output_type": "stream",
          "text": [
            "[386, 479, 627, 523, 482, 483, 542, 699, 535, 617, 577, 471, 615, 583, 441, 562, 563, 527, 453, 530, 433, 541, 585, 704, 443, 569, 430, 637, 331, 511, 552, 496, 484, 566, 554, 472, 335, 440, 579, 341, 545, 615, 548, 604, 439, 556, 442, 461, 624, 611, 444, 578, 405, 487, 490, 496, 398, 512, 422, 455, 449, 432, 607, 679, 434, 597, 639, 565, 415, 486, 668, 414, 665, 763, 557, 304, 404, 454, 689, 610, 483, 441, 657, 590, 492, 476, 437, 483, 529, 363, 711, 543]\n"
          ],
          "name": "stdout"
        }
      ]
    },
    {
      "cell_type": "markdown",
      "metadata": {
        "id": "9c8awSgjGR6q",
        "colab_type": "text"
      },
      "source": [
        "## Visualização dos Dados Após a Remoção das Anomalias/Outliers"
      ]
    },
    {
      "cell_type": "code",
      "metadata": {
        "id": "K4B6Uq-uGGzF",
        "colab_type": "code",
        "colab": {
          "base_uri": "https://localhost:8080/",
          "height": 268
        },
        "outputId": "25bc9bc2-c39a-4781-b6a3-1e10b5a3fae3"
      },
      "source": [
        "# Plotagem do Boxplot. Note que os valores não apresentam mais anomalias\n",
        "sns.boxplot(data=dados);"
      ],
      "execution_count": 21,
      "outputs": [
        {
          "output_type": "display_data",
          "data": {
            "image/png": "[encoded data removed]",
            "text/plain": [
              "<Figure size 432x288 with 1 Axes>"
            ]
          },
          "metadata": {
            "tags": []
          }
        }
      ]
    },
    {
      "cell_type": "markdown",
      "metadata": {
        "id": "de7TA3QCH6U_",
        "colab_type": "text"
      },
      "source": [
        "# Aula 12 - Aplicando Discretização aos Dados\n",
        "\n",
        "- O objetivo é tranformar dados **numéricos** em dados categóricos/qualitativos, que podem ser nominais ou ordinais\n",
        "- No caso, dados numéricos serão transformados em dados categóricos ordinais"
      ]
    },
    {
      "cell_type": "markdown",
      "metadata": {
        "id": "4T8HOBinIOCj",
        "colab_type": "text"
      },
      "source": [
        "## Criação do Conjunto de Dados"
      ]
    },
    {
      "cell_type": "code",
      "metadata": {
        "id": "A_f8UHXQGYh9",
        "colab_type": "code",
        "colab": {}
      },
      "source": [
        "# Importação do Pandas\n",
        "import pandas as pd"
      ],
      "execution_count": 0,
      "outputs": []
    },
    {
      "cell_type": "code",
      "metadata": {
        "id": "JTf6c4K_IW7B",
        "colab_type": "code",
        "colab": {}
      },
      "source": [
        "# Criação da lista com informações de altura\n",
        "altura = [1.50,1.57,1.62,1.70,1.85,1.90]"
      ],
      "execution_count": 0,
      "outputs": []
    },
    {
      "cell_type": "markdown",
      "metadata": {
        "id": "QOW61rh2IyPz",
        "colab_type": "text"
      },
      "source": [
        "## Aplicando Discretização nos Dados de Altura\n",
        "\n",
        "- **var = pd.qcut (var , n , labels = [ 'label1' , 'label2' , ... ] )**\n",
        "- Nessa situação, iremos discretizar os dados em \"n\" = **3 bins/classes** de **tamanhos iguais**\n",
        "- As classes serão chamadas de \"Baixo\", \"Médio\" e \"Alto\". Essas seriam as \"labels\""
      ]
    },
    {
      "cell_type": "code",
      "metadata": {
        "id": "MZzJr38qIiGk",
        "colab_type": "code",
        "colab": {
          "base_uri": "https://localhost:8080/",
          "height": 50
        },
        "outputId": "f8730915-1c98-4cd3-cf4f-993dc63c6ff8"
      },
      "source": [
        "altura = pd.qcut(altura,3,labels=['Baixo','Medio','Alto'])\n",
        "print (altura)\n",
        "\n",
        "# Observe que na saída são retornadas as classes e a ordem delas"
      ],
      "execution_count": 24,
      "outputs": [
        {
          "output_type": "stream",
          "text": [
            "[Baixo, Baixo, Medio, Medio, Alto, Alto]\n",
            "Categories (3, object): [Baixo < Medio < Alto]\n"
          ],
          "name": "stdout"
        }
      ]
    },
    {
      "cell_type": "markdown",
      "metadata": {
        "id": "2yaUPUnAJqje",
        "colab_type": "text"
      },
      "source": [
        "### Contagem de Valores Únicos em Cada Classe"
      ]
    },
    {
      "cell_type": "code",
      "metadata": {
        "id": "vdeTPfmVJXJS",
        "colab_type": "code",
        "colab": {
          "base_uri": "https://localhost:8080/",
          "height": 84
        },
        "outputId": "1b217cf2-f950-4fce-9b40-93490fe9f034"
      },
      "source": [
        "altura.value_counts()"
      ],
      "execution_count": 25,
      "outputs": [
        {
          "output_type": "execute_result",
          "data": {
            "text/plain": [
              "Baixo    2\n",
              "Medio    2\n",
              "Alto     2\n",
              "dtype: int64"
            ]
          },
          "metadata": {
            "tags": []
          },
          "execution_count": 25
        }
      ]
    },
    {
      "cell_type": "markdown",
      "metadata": {
        "id": "qyRj0BJBOlDx",
        "colab_type": "text"
      },
      "source": [
        "## Importando Nova Base de Dados"
      ]
    },
    {
      "cell_type": "code",
      "metadata": {
        "id": "we9QkMHUJxk1",
        "colab_type": "code",
        "colab": {
          "base_uri": "https://localhost:8080/",
          "height": 215
        },
        "outputId": "3952dcdc-d623-480a-dd9d-7f282bc32a5e"
      },
      "source": [
        "path = '/content/drive/My Drive/Colab Notebooks/Data Science do ZERO/7 - Estatística Aplicada e Pré-Processamento dos Dados/Materiais Disponibilizados/kc_house_data.csv'\n",
        "df = pd.read_csv (path)\n",
        "df.head()"
      ],
      "execution_count": 26,
      "outputs": [
        {
          "output_type": "execute_result",
          "data": {
            "text/html": [
              "<div>\n",
              "<style scoped>\n",
              "    .dataframe tbody tr th:only-of-type {\n",
              "        vertical-align: middle;\n",
              "    }\n",
              "\n",
              "    .dataframe tbody tr th {\n",
              "        vertical-align: top;\n",
              "    }\n",
              "\n",
              "    .dataframe thead th {\n",
              "        text-align: right;\n",
              "    }\n",
              "</style>\n",
              "<table border=\"1\" class=\"dataframe\">\n",
              "  <thead>\n",
              "    <tr style=\"text-align: right;\">\n",
              "      <th></th>\n",
              "      <th>id</th>\n",
              "      <th>date</th>\n",
              "      <th>price</th>\n",
              "      <th>bedrooms</th>\n",
              "      <th>bathrooms</th>\n",
              "      <th>sqft_living</th>\n",
              "      <th>sqft_lot</th>\n",
              "      <th>floors</th>\n",
              "      <th>waterfront</th>\n",
              "      <th>view</th>\n",
              "      <th>condition</th>\n",
              "      <th>grade</th>\n",
              "      <th>sqft_above</th>\n",
              "      <th>sqft_basement</th>\n",
              "      <th>yr_built</th>\n",
              "      <th>yr_renovated</th>\n",
              "      <th>zipcode</th>\n",
              "      <th>lat</th>\n",
              "      <th>long</th>\n",
              "      <th>sqft_living15</th>\n",
              "      <th>sqft_lot15</th>\n",
              "    </tr>\n",
              "  </thead>\n",
              "  <tbody>\n",
              "    <tr>\n",
              "      <th>0</th>\n",
              "      <td>7129300520</td>\n",
              "      <td>20141013T000000</td>\n",
              "      <td>221900.0</td>\n",
              "      <td>3.0</td>\n",
              "      <td>1.00</td>\n",
              "      <td>1180</td>\n",
              "      <td>5650</td>\n",
              "      <td>1.0</td>\n",
              "      <td>0</td>\n",
              "      <td>0</td>\n",
              "      <td>3</td>\n",
              "      <td>7</td>\n",
              "      <td>1180</td>\n",
              "      <td>0</td>\n",
              "      <td>1955</td>\n",
              "      <td>0</td>\n",
              "      <td>98178</td>\n",
              "      <td>47.5112</td>\n",
              "      <td>-122.257</td>\n",
              "      <td>1340</td>\n",
              "      <td>5650</td>\n",
              "    </tr>\n",
              "    <tr>\n",
              "      <th>1</th>\n",
              "      <td>6414100192</td>\n",
              "      <td>20141209T000000</td>\n",
              "      <td>538000.0</td>\n",
              "      <td>3.0</td>\n",
              "      <td>2.25</td>\n",
              "      <td>2570</td>\n",
              "      <td>7242</td>\n",
              "      <td>2.0</td>\n",
              "      <td>0</td>\n",
              "      <td>0</td>\n",
              "      <td>3</td>\n",
              "      <td>7</td>\n",
              "      <td>2170</td>\n",
              "      <td>400</td>\n",
              "      <td>1951</td>\n",
              "      <td>1991</td>\n",
              "      <td>98125</td>\n",
              "      <td>47.7210</td>\n",
              "      <td>-122.319</td>\n",
              "      <td>1690</td>\n",
              "      <td>7639</td>\n",
              "    </tr>\n",
              "    <tr>\n",
              "      <th>2</th>\n",
              "      <td>5631500400</td>\n",
              "      <td>20150225T000000</td>\n",
              "      <td>180000.0</td>\n",
              "      <td>2.0</td>\n",
              "      <td>1.00</td>\n",
              "      <td>770</td>\n",
              "      <td>10000</td>\n",
              "      <td>1.0</td>\n",
              "      <td>0</td>\n",
              "      <td>0</td>\n",
              "      <td>3</td>\n",
              "      <td>6</td>\n",
              "      <td>770</td>\n",
              "      <td>0</td>\n",
              "      <td>1933</td>\n",
              "      <td>0</td>\n",
              "      <td>98028</td>\n",
              "      <td>47.7379</td>\n",
              "      <td>-122.233</td>\n",
              "      <td>2720</td>\n",
              "      <td>8062</td>\n",
              "    </tr>\n",
              "    <tr>\n",
              "      <th>3</th>\n",
              "      <td>2487200875</td>\n",
              "      <td>20141209T000000</td>\n",
              "      <td>604000.0</td>\n",
              "      <td>4.0</td>\n",
              "      <td>3.00</td>\n",
              "      <td>1960</td>\n",
              "      <td>5000</td>\n",
              "      <td>1.0</td>\n",
              "      <td>0</td>\n",
              "      <td>0</td>\n",
              "      <td>5</td>\n",
              "      <td>7</td>\n",
              "      <td>1050</td>\n",
              "      <td>910</td>\n",
              "      <td>1965</td>\n",
              "      <td>0</td>\n",
              "      <td>98136</td>\n",
              "      <td>47.5208</td>\n",
              "      <td>-122.393</td>\n",
              "      <td>1360</td>\n",
              "      <td>5000</td>\n",
              "    </tr>\n",
              "    <tr>\n",
              "      <th>4</th>\n",
              "      <td>1954400510</td>\n",
              "      <td>20150218T000000</td>\n",
              "      <td>510000.0</td>\n",
              "      <td>3.0</td>\n",
              "      <td>2.00</td>\n",
              "      <td>1680</td>\n",
              "      <td>8080</td>\n",
              "      <td>1.0</td>\n",
              "      <td>0</td>\n",
              "      <td>0</td>\n",
              "      <td>3</td>\n",
              "      <td>8</td>\n",
              "      <td>1680</td>\n",
              "      <td>0</td>\n",
              "      <td>1987</td>\n",
              "      <td>0</td>\n",
              "      <td>98074</td>\n",
              "      <td>47.6168</td>\n",
              "      <td>-122.045</td>\n",
              "      <td>1800</td>\n",
              "      <td>7503</td>\n",
              "    </tr>\n",
              "  </tbody>\n",
              "</table>\n",
              "</div>"
            ],
            "text/plain": [
              "           id             date     price  ...     long  sqft_living15  sqft_lot15\n",
              "0  7129300520  20141013T000000  221900.0  ... -122.257           1340        5650\n",
              "1  6414100192  20141209T000000  538000.0  ... -122.319           1690        7639\n",
              "2  5631500400  20150225T000000  180000.0  ... -122.233           2720        8062\n",
              "3  2487200875  20141209T000000  604000.0  ... -122.393           1360        5000\n",
              "4  1954400510  20150218T000000  510000.0  ... -122.045           1800        7503\n",
              "\n",
              "[5 rows x 21 columns]"
            ]
          },
          "metadata": {
            "tags": []
          },
          "execution_count": 26
        }
      ]
    },
    {
      "cell_type": "markdown",
      "metadata": {
        "id": "Fx3Cr6OWP1xZ",
        "colab_type": "text"
      },
      "source": [
        "## Contagem de Valores Únicos de Número de Andares"
      ]
    },
    {
      "cell_type": "code",
      "metadata": {
        "id": "_pf4J6y8PDBB",
        "colab_type": "code",
        "colab": {
          "base_uri": "https://localhost:8080/",
          "height": 134
        },
        "outputId": "b21352cc-2360-4808-ceee-2efa57957484"
      },
      "source": [
        "df['floors'].value_counts ()"
      ],
      "execution_count": 27,
      "outputs": [
        {
          "output_type": "execute_result",
          "data": {
            "text/plain": [
              "1.0    10679\n",
              "2.0     8241\n",
              "1.5     1910\n",
              "3.0      613\n",
              "2.5      161\n",
              "3.5        8\n",
              "Name: floors, dtype: int64"
            ]
          },
          "metadata": {
            "tags": []
          },
          "execution_count": 27
        }
      ]
    },
    {
      "cell_type": "markdown",
      "metadata": {
        "id": "s9QhPWcdQtU2",
        "colab_type": "text"
      },
      "source": [
        "## Discretização dos Dados de Número de Andares\n",
        "\n",
        "- **df [ 'new_col' ] = pd.cut (df [ 'col' ] , n , labels = [ 'label1' , 'label2' , ... , 'labeln' ] )**\n",
        "- Discretiza a coluna de um df (df [ 'col' ] ) em um número \"n\" de classes/bins denominadas \"labels\""
      ]
    },
    {
      "cell_type": "code",
      "metadata": {
        "id": "99oHorhMRUKL",
        "colab_type": "code",
        "colab": {}
      },
      "source": [
        "# Criação de uma nova coluna com os dados de número de quartos discretizados\n",
        "df['floor_labels'] = pd.cut(df['floors'],5,\n",
        "                            labels = ['Muito-Pequeno','Pequeno','Medio',\n",
        "                                      'Grande','Muito-Grande'])"
      ],
      "execution_count": 0,
      "outputs": []
    },
    {
      "cell_type": "code",
      "metadata": {
        "id": "Ri_HVOi2So8b",
        "colab_type": "code",
        "colab": {
          "base_uri": "https://localhost:8080/",
          "height": 481
        },
        "outputId": "26d69654-be25-495f-a618-7b5e90cd27a2"
      },
      "source": [
        "# Visualização da nova coluna discretizada criada\n",
        "df.head(10)"
      ],
      "execution_count": 29,
      "outputs": [
        {
          "output_type": "execute_result",
          "data": {
            "text/html": [
              "<div>\n",
              "<style scoped>\n",
              "    .dataframe tbody tr th:only-of-type {\n",
              "        vertical-align: middle;\n",
              "    }\n",
              "\n",
              "    .dataframe tbody tr th {\n",
              "        vertical-align: top;\n",
              "    }\n",
              "\n",
              "    .dataframe thead th {\n",
              "        text-align: right;\n",
              "    }\n",
              "</style>\n",
              "<table border=\"1\" class=\"dataframe\">\n",
              "  <thead>\n",
              "    <tr style=\"text-align: right;\">\n",
              "      <th></th>\n",
              "      <th>id</th>\n",
              "      <th>date</th>\n",
              "      <th>price</th>\n",
              "      <th>bedrooms</th>\n",
              "      <th>bathrooms</th>\n",
              "      <th>sqft_living</th>\n",
              "      <th>sqft_lot</th>\n",
              "      <th>floors</th>\n",
              "      <th>waterfront</th>\n",
              "      <th>view</th>\n",
              "      <th>condition</th>\n",
              "      <th>grade</th>\n",
              "      <th>sqft_above</th>\n",
              "      <th>sqft_basement</th>\n",
              "      <th>yr_built</th>\n",
              "      <th>yr_renovated</th>\n",
              "      <th>zipcode</th>\n",
              "      <th>lat</th>\n",
              "      <th>long</th>\n",
              "      <th>sqft_living15</th>\n",
              "      <th>sqft_lot15</th>\n",
              "      <th>floor_labels</th>\n",
              "    </tr>\n",
              "  </thead>\n",
              "  <tbody>\n",
              "    <tr>\n",
              "      <th>0</th>\n",
              "      <td>7129300520</td>\n",
              "      <td>20141013T000000</td>\n",
              "      <td>221900.0</td>\n",
              "      <td>3.0</td>\n",
              "      <td>1.00</td>\n",
              "      <td>1180</td>\n",
              "      <td>5650</td>\n",
              "      <td>1.0</td>\n",
              "      <td>0</td>\n",
              "      <td>0</td>\n",
              "      <td>3</td>\n",
              "      <td>7</td>\n",
              "      <td>1180</td>\n",
              "      <td>0</td>\n",
              "      <td>1955</td>\n",
              "      <td>0</td>\n",
              "      <td>98178</td>\n",
              "      <td>47.5112</td>\n",
              "      <td>-122.257</td>\n",
              "      <td>1340</td>\n",
              "      <td>5650</td>\n",
              "      <td>Muito-Pequeno</td>\n",
              "    </tr>\n",
              "    <tr>\n",
              "      <th>1</th>\n",
              "      <td>6414100192</td>\n",
              "      <td>20141209T000000</td>\n",
              "      <td>538000.0</td>\n",
              "      <td>3.0</td>\n",
              "      <td>2.25</td>\n",
              "      <td>2570</td>\n",
              "      <td>7242</td>\n",
              "      <td>2.0</td>\n",
              "      <td>0</td>\n",
              "      <td>0</td>\n",
              "      <td>3</td>\n",
              "      <td>7</td>\n",
              "      <td>2170</td>\n",
              "      <td>400</td>\n",
              "      <td>1951</td>\n",
              "      <td>1991</td>\n",
              "      <td>98125</td>\n",
              "      <td>47.7210</td>\n",
              "      <td>-122.319</td>\n",
              "      <td>1690</td>\n",
              "      <td>7639</td>\n",
              "      <td>Pequeno</td>\n",
              "    </tr>\n",
              "    <tr>\n",
              "      <th>2</th>\n",
              "      <td>5631500400</td>\n",
              "      <td>20150225T000000</td>\n",
              "      <td>180000.0</td>\n",
              "      <td>2.0</td>\n",
              "      <td>1.00</td>\n",
              "      <td>770</td>\n",
              "      <td>10000</td>\n",
              "      <td>1.0</td>\n",
              "      <td>0</td>\n",
              "      <td>0</td>\n",
              "      <td>3</td>\n",
              "      <td>6</td>\n",
              "      <td>770</td>\n",
              "      <td>0</td>\n",
              "      <td>1933</td>\n",
              "      <td>0</td>\n",
              "      <td>98028</td>\n",
              "      <td>47.7379</td>\n",
              "      <td>-122.233</td>\n",
              "      <td>2720</td>\n",
              "      <td>8062</td>\n",
              "      <td>Muito-Pequeno</td>\n",
              "    </tr>\n",
              "    <tr>\n",
              "      <th>3</th>\n",
              "      <td>2487200875</td>\n",
              "      <td>20141209T000000</td>\n",
              "      <td>604000.0</td>\n",
              "      <td>4.0</td>\n",
              "      <td>3.00</td>\n",
              "      <td>1960</td>\n",
              "      <td>5000</td>\n",
              "      <td>1.0</td>\n",
              "      <td>0</td>\n",
              "      <td>0</td>\n",
              "      <td>5</td>\n",
              "      <td>7</td>\n",
              "      <td>1050</td>\n",
              "      <td>910</td>\n",
              "      <td>1965</td>\n",
              "      <td>0</td>\n",
              "      <td>98136</td>\n",
              "      <td>47.5208</td>\n",
              "      <td>-122.393</td>\n",
              "      <td>1360</td>\n",
              "      <td>5000</td>\n",
              "      <td>Muito-Pequeno</td>\n",
              "    </tr>\n",
              "    <tr>\n",
              "      <th>4</th>\n",
              "      <td>1954400510</td>\n",
              "      <td>20150218T000000</td>\n",
              "      <td>510000.0</td>\n",
              "      <td>3.0</td>\n",
              "      <td>2.00</td>\n",
              "      <td>1680</td>\n",
              "      <td>8080</td>\n",
              "      <td>1.0</td>\n",
              "      <td>0</td>\n",
              "      <td>0</td>\n",
              "      <td>3</td>\n",
              "      <td>8</td>\n",
              "      <td>1680</td>\n",
              "      <td>0</td>\n",
              "      <td>1987</td>\n",
              "      <td>0</td>\n",
              "      <td>98074</td>\n",
              "      <td>47.6168</td>\n",
              "      <td>-122.045</td>\n",
              "      <td>1800</td>\n",
              "      <td>7503</td>\n",
              "      <td>Muito-Pequeno</td>\n",
              "    </tr>\n",
              "    <tr>\n",
              "      <th>5</th>\n",
              "      <td>7237550310</td>\n",
              "      <td>20140512T000000</td>\n",
              "      <td>1225000.0</td>\n",
              "      <td>4.0</td>\n",
              "      <td>4.50</td>\n",
              "      <td>5420</td>\n",
              "      <td>101930</td>\n",
              "      <td>1.0</td>\n",
              "      <td>0</td>\n",
              "      <td>0</td>\n",
              "      <td>3</td>\n",
              "      <td>11</td>\n",
              "      <td>3890</td>\n",
              "      <td>1530</td>\n",
              "      <td>2001</td>\n",
              "      <td>0</td>\n",
              "      <td>98053</td>\n",
              "      <td>47.6561</td>\n",
              "      <td>-122.005</td>\n",
              "      <td>4760</td>\n",
              "      <td>101930</td>\n",
              "      <td>Muito-Pequeno</td>\n",
              "    </tr>\n",
              "    <tr>\n",
              "      <th>6</th>\n",
              "      <td>1321400060</td>\n",
              "      <td>20140627T000000</td>\n",
              "      <td>257500.0</td>\n",
              "      <td>3.0</td>\n",
              "      <td>2.25</td>\n",
              "      <td>1715</td>\n",
              "      <td>6819</td>\n",
              "      <td>2.0</td>\n",
              "      <td>0</td>\n",
              "      <td>0</td>\n",
              "      <td>3</td>\n",
              "      <td>7</td>\n",
              "      <td>1715</td>\n",
              "      <td>0</td>\n",
              "      <td>1995</td>\n",
              "      <td>0</td>\n",
              "      <td>98003</td>\n",
              "      <td>47.3097</td>\n",
              "      <td>-122.327</td>\n",
              "      <td>2238</td>\n",
              "      <td>6819</td>\n",
              "      <td>Pequeno</td>\n",
              "    </tr>\n",
              "    <tr>\n",
              "      <th>7</th>\n",
              "      <td>2008000270</td>\n",
              "      <td>20150115T000000</td>\n",
              "      <td>291850.0</td>\n",
              "      <td>3.0</td>\n",
              "      <td>1.50</td>\n",
              "      <td>1060</td>\n",
              "      <td>9711</td>\n",
              "      <td>1.0</td>\n",
              "      <td>0</td>\n",
              "      <td>0</td>\n",
              "      <td>3</td>\n",
              "      <td>7</td>\n",
              "      <td>1060</td>\n",
              "      <td>0</td>\n",
              "      <td>1963</td>\n",
              "      <td>0</td>\n",
              "      <td>98198</td>\n",
              "      <td>47.4095</td>\n",
              "      <td>-122.315</td>\n",
              "      <td>1650</td>\n",
              "      <td>9711</td>\n",
              "      <td>Muito-Pequeno</td>\n",
              "    </tr>\n",
              "    <tr>\n",
              "      <th>8</th>\n",
              "      <td>2414600126</td>\n",
              "      <td>20150415T000000</td>\n",
              "      <td>229500.0</td>\n",
              "      <td>3.0</td>\n",
              "      <td>1.00</td>\n",
              "      <td>1780</td>\n",
              "      <td>7470</td>\n",
              "      <td>1.0</td>\n",
              "      <td>0</td>\n",
              "      <td>0</td>\n",
              "      <td>3</td>\n",
              "      <td>7</td>\n",
              "      <td>1050</td>\n",
              "      <td>730</td>\n",
              "      <td>1960</td>\n",
              "      <td>0</td>\n",
              "      <td>98146</td>\n",
              "      <td>47.5123</td>\n",
              "      <td>-122.337</td>\n",
              "      <td>1780</td>\n",
              "      <td>8113</td>\n",
              "      <td>Muito-Pequeno</td>\n",
              "    </tr>\n",
              "    <tr>\n",
              "      <th>9</th>\n",
              "      <td>3793500160</td>\n",
              "      <td>20150312T000000</td>\n",
              "      <td>323000.0</td>\n",
              "      <td>3.0</td>\n",
              "      <td>2.50</td>\n",
              "      <td>1890</td>\n",
              "      <td>6560</td>\n",
              "      <td>2.0</td>\n",
              "      <td>0</td>\n",
              "      <td>0</td>\n",
              "      <td>3</td>\n",
              "      <td>7</td>\n",
              "      <td>1890</td>\n",
              "      <td>0</td>\n",
              "      <td>2003</td>\n",
              "      <td>0</td>\n",
              "      <td>98038</td>\n",
              "      <td>47.3684</td>\n",
              "      <td>-122.031</td>\n",
              "      <td>2390</td>\n",
              "      <td>7570</td>\n",
              "      <td>Pequeno</td>\n",
              "    </tr>\n",
              "  </tbody>\n",
              "</table>\n",
              "</div>"
            ],
            "text/plain": [
              "           id             date  ...  sqft_lot15   floor_labels\n",
              "0  7129300520  20141013T000000  ...        5650  Muito-Pequeno\n",
              "1  6414100192  20141209T000000  ...        7639        Pequeno\n",
              "2  5631500400  20150225T000000  ...        8062  Muito-Pequeno\n",
              "3  2487200875  20141209T000000  ...        5000  Muito-Pequeno\n",
              "4  1954400510  20150218T000000  ...        7503  Muito-Pequeno\n",
              "5  7237550310  20140512T000000  ...      101930  Muito-Pequeno\n",
              "6  1321400060  20140627T000000  ...        6819        Pequeno\n",
              "7  2008000270  20150115T000000  ...        9711  Muito-Pequeno\n",
              "8  2414600126  20150415T000000  ...        8113  Muito-Pequeno\n",
              "9  3793500160  20150312T000000  ...        7570        Pequeno\n",
              "\n",
              "[10 rows x 22 columns]"
            ]
          },
          "metadata": {
            "tags": []
          },
          "execution_count": 29
        }
      ]
    },
    {
      "cell_type": "markdown",
      "metadata": {
        "id": "BJuju7jzTre7",
        "colab_type": "text"
      },
      "source": [
        "### Impressão de Valores Únicos da Nova Coluna Discretizada\n",
        "\n",
        "- **df [ 'col' ].unique ( )**"
      ]
    },
    {
      "cell_type": "code",
      "metadata": {
        "id": "S3FWxifvT5IM",
        "colab_type": "code",
        "colab": {
          "base_uri": "https://localhost:8080/",
          "height": 50
        },
        "outputId": "5f3ee543-a7a7-4a0d-e7ba-9402bbd39550"
      },
      "source": [
        "df['floor_labels'].unique ()"
      ],
      "execution_count": 31,
      "outputs": [
        {
          "output_type": "execute_result",
          "data": {
            "text/plain": [
              "[Muito-Pequeno, Pequeno, NaN, Grande, Medio, Muito-Grande]\n",
              "Categories (5, object): [Muito-Pequeno < Pequeno < Medio < Grande < Muito-Grande]"
            ]
          },
          "metadata": {
            "tags": []
          },
          "execution_count": 31
        }
      ]
    },
    {
      "cell_type": "markdown",
      "metadata": {
        "id": "rTZPiYOeTbb9",
        "colab_type": "text"
      },
      "source": [
        "### Contagem de Valores Únicos da Coluna Discretizada Criada\n",
        "\n",
        "- **df [ 'col' ].value_counts ( )**"
      ]
    },
    {
      "cell_type": "code",
      "metadata": {
        "id": "jtzzLemDSsB-",
        "colab_type": "code",
        "colab": {
          "base_uri": "https://localhost:8080/",
          "height": 118
        },
        "outputId": "cc199a9d-95db-4050-b8e6-ce85af357d5c"
      },
      "source": [
        "df['floor_labels'].value_counts()"
      ],
      "execution_count": 30,
      "outputs": [
        {
          "output_type": "execute_result",
          "data": {
            "text/plain": [
              "Muito-Pequeno    12589\n",
              "Pequeno           8241\n",
              "Grande             613\n",
              "Medio              161\n",
              "Muito-Grande         8\n",
              "Name: floor_labels, dtype: int64"
            ]
          },
          "metadata": {
            "tags": []
          },
          "execution_count": 30
        }
      ]
    },
    {
      "cell_type": "markdown",
      "metadata": {
        "id": "1BnlRQFOVPJ2",
        "colab_type": "text"
      },
      "source": [
        "# Aula 13 - Aplicando Normalização aos Dados\n",
        "\n",
        "- O objetivo da normalização é transformar os dados, de modo a deixá-los o mais próximo possível da **forma normal**, i.e., valores cada vez **mais próximos da média**\n",
        "- Aplicando a normalização dos dados, faremos com que os dados sejam transformados em uma distribuição normal e, assim, os dados estarão mais próximos da média\n",
        "- Essa normalização para aproximar a distribuição dos dados à uma distribuição normal, tem o intuito de preparar os dados para algoritmos de ML que assumem que a a distribuição dos dados é NORMAL\n",
        "- Principais tipos de Norma:\n",
        "    - L0\n",
        "    - L1 (Manhattan Distance/Norma Taxicab)\n",
        "    - L2 (Norma Euclidiana)\n",
        "    - L-Infinita"
      ]
    },
    {
      "cell_type": "markdown",
      "metadata": {
        "id": "SVKSmeAYkD4b",
        "colab_type": "text"
      },
      "source": [
        "## Principais Tipos de Normas"
      ]
    },
    {
      "cell_type": "markdown",
      "metadata": {
        "id": "OlfDxzzYagLY",
        "colab_type": "text"
      },
      "source": [
        "### Norma L0\n",
        "\n",
        "- É dada pela quantidade de elementos não nulos de um vetor\n",
        "- A norma L0 do vetor (0,1,0,0,0,5) é 2, pois existem apenas dois elementos não nulos no vetor\n",
        "- Não é uma norma stricto sensu\n",
        "- Exemplo:\n",
        "  - Temos dois vetores, com informações de: (1) Usuário e (2) Senha\n",
        "  - Se norma L0 = 0 --> o login foi realizado com sucesso\n",
        "  - Se norma L0 = 1 --> ou o usuário ou a senha está incorreto, mas não ambos e não se sabe qual\n",
        "  - Se norma L0 = 2 --> ambos usuário e senha estão incorretos"
      ]
    },
    {
      "cell_type": "markdown",
      "metadata": {
        "id": "Sk47Svpgb8eM",
        "colab_type": "text"
      },
      "source": [
        "### Norma L1\n",
        "\n",
        "- Também conhecida como \"taxicab Norm\" ou \"Manhattan Distance\"\n",
        "- É a soma dos módulos dos elementos de um vetor\n",
        "- Quando aplicada para medir distâncias entre vetores, consiste na soma dos módulos das diferenças entre componentes dos vetores\n",
        "- Todos os elementos do vetor recebem o mesmo peso\n",
        "- Exemplo: Imagine o vetor v = (3,4)\n",
        "  - ||v||1 = |3| + |4| = 7\n",
        "\n",
        "![alt text](https://miro.medium.com/max/600/0*1kmU2e3eDsPGJjvR.jpg)\n",
        "\n",
        "- No exemplo acima, a norma L1 é a distância de viagem entre a origem (0,0) e o destino final (3,4). Não é uma distância direta, mas, na verdade, é como se um taxi tivesse que percorrer uma distância contornando quarteirões de uma cidade e não uma distância em linha reta\n"
      ]
    },
    {
      "cell_type": "markdown",
      "metadata": {
        "id": "I6EGHXsNdvjR",
        "colab_type": "text"
      },
      "source": [
        "### Norma L2\n",
        "\n",
        "- Também chamada de \"Norma Euclidiana\"\n",
        "- É basicamente uma aplicação do teorema de pitágoras que calcula a magnitude real de um vetor\n",
        "- Ao contrário da norma L1, a norma L2 é a **menor distância** (distância direta) entre um ponto e outro no espaço:\n",
        "\n",
        "![alt text](https://wikimedia.org/api/rest_v1/media/math/render/svg/4d2562bd8e6df0c2625fd9c0e0c09ee9b932785d)\n",
        "\n",
        "- Como, no cálculo dessa norma (L2), os elementos do valor são elevados ao quadrado, valores extremos (que podem ou não ser outliers) recebem um peso maior, o que pode gerar uma assimetria (skewness)\n",
        "- Ainda utilizando o exemplo anterior dos vetores (0,0), ou seja, a origem, e o vetor (3,4), ou seja, o destino, teríamos a seguinte situação:\n",
        "\n",
        "![alt text](https://miro.medium.com/max/1078/1*qGQqHj9t1gyYH20YUOybeg.png)\n",
        "\n",
        "![alt text](https://miro.medium.com/max/600/0*HTlIui8sHP8pIHBW.jpg)"
      ]
    },
    {
      "cell_type": "markdown",
      "metadata": {
        "id": "dcAqi6WBi4Wg",
        "colab_type": "text"
      },
      "source": [
        "### Norma L-Infinita\n",
        "\n",
        "- Ela considera que apenas o maior elemento do vetor apresenta um efeito\n",
        "- A Normal L-Infinita é dada pelo módulo do maior elemento de um vetor\n",
        "- Exemplo 1: Dado um vetor v = (1,2,-6,4,-5), a Norma L-Infinita é 6\n",
        "- Exemplo 2: Em uma situação em que um vetor é constituído pelos custos de uma obra, se minimizamos a Norma L-Infinita, nós reduzimos o custo da obra"
      ]
    },
    {
      "cell_type": "markdown",
      "metadata": {
        "id": "_6EW8_7CnKWY",
        "colab_type": "text"
      },
      "source": [
        "## Exemplo de Normalização com Norma L2"
      ]
    },
    {
      "cell_type": "markdown",
      "metadata": {
        "id": "Mu5VA-hyklFF",
        "colab_type": "text"
      },
      "source": [
        "### Importação das Bibliotecas"
      ]
    },
    {
      "cell_type": "code",
      "metadata": {
        "id": "bMF0AOwnTmZA",
        "colab_type": "code",
        "colab": {}
      },
      "source": [
        "import warnings\n",
        "warnings.filterwarnings('ignore') # Importação de biblioteca para ignorar avisos\n",
        "from sklearn.preprocessing import Normalizer # Importação do método de normalização\n",
        "import numpy as np\n",
        "import seaborn as sns\n",
        "import matplotlib.pyplot as plt"
      ],
      "execution_count": 0,
      "outputs": []
    },
    {
      "cell_type": "markdown",
      "metadata": {
        "id": "8pG9dwVemrSm",
        "colab_type": "text"
      },
      "source": [
        "### Criando Dados para Exemplo"
      ]
    },
    {
      "cell_type": "code",
      "metadata": {
        "id": "IzqX24-3l1fx",
        "colab_type": "code",
        "colab": {
          "base_uri": "https://localhost:8080/",
          "height": 35
        },
        "outputId": "59ca04b6-dd34-4178-e162-583611749d0d"
      },
      "source": [
        "# Criando dados a partir de uma lista aninhada\n",
        "data = [[-1, 2],[0.5, 6],[0, 10],[1, 18]]\n",
        "print (data)"
      ],
      "execution_count": 34,
      "outputs": [
        {
          "output_type": "stream",
          "text": [
            "[[-1, 2], [0.5, 6], [0, 10], [1, 18]]\n"
          ],
          "name": "stdout"
        }
      ]
    },
    {
      "cell_type": "markdown",
      "metadata": {
        "id": "hHXApSTxnPlN",
        "colab_type": "text"
      },
      "source": [
        "### Cálculo da Média Aritmética"
      ]
    },
    {
      "cell_type": "code",
      "metadata": {
        "id": "Ad9T3xSvnSRL",
        "colab_type": "code",
        "colab": {
          "base_uri": "https://localhost:8080/",
          "height": 35
        },
        "outputId": "a5345f6a-b790-40ab-c2dc-84ab66affe0b"
      },
      "source": [
        "# Tranformação de lista aninhada para numpy array\n",
        "data = np.array(data)\n",
        "# Cálculo da média aritmética\n",
        "print (np.mean(data))\n",
        "\n",
        "# OBS.: não seria necessário tranformar a lista aninhada em numpy array para\n",
        "# tirar a média. Entretanto, isso já é necessário para plotar o histograma abaixo"
      ],
      "execution_count": 41,
      "outputs": [
        {
          "output_type": "stream",
          "text": [
            "4.5625\n"
          ],
          "name": "stdout"
        }
      ]
    },
    {
      "cell_type": "markdown",
      "metadata": {
        "id": "rdkyYj4MnZKy",
        "colab_type": "text"
      },
      "source": [
        "### Visualização Prévia da Distribuição dos Dados"
      ]
    },
    {
      "cell_type": "code",
      "metadata": {
        "id": "q183LEKzon0a",
        "colab_type": "code",
        "colab": {
          "base_uri": "https://localhost:8080/",
          "height": 90
        },
        "outputId": "bf4dadff-1bf8-423e-8b91-3f4a8d6a2e87"
      },
      "source": [
        "# Note que o numpy array apresenta 2 dimensões\n",
        "data"
      ],
      "execution_count": 42,
      "outputs": [
        {
          "output_type": "execute_result",
          "data": {
            "text/plain": [
              "array([[-1. ,  2. ],\n",
              "       [ 0.5,  6. ],\n",
              "       [ 0. , 10. ],\n",
              "       [ 1. , 18. ]])"
            ]
          },
          "metadata": {
            "tags": []
          },
          "execution_count": 42
        }
      ]
    },
    {
      "cell_type": "code",
      "metadata": {
        "id": "yKQ_jvRlnXTf",
        "colab_type": "code",
        "colab": {
          "base_uri": "https://localhost:8080/",
          "height": 268
        },
        "outputId": "8a881ecf-5e87-4561-af95-d48349ee5552"
      },
      "source": [
        "# Plotagem de histograma com modelo de distribuição de frequências\n",
        "sns.distplot(data.reshape(-1))\n",
        "plt.show()\n",
        "\n",
        "# O método \"reshape(-1)\" tranforma o numpy array para um numpy array de apenas\n",
        "# 1 dimensão\n",
        "\n",
        "# Note que os dados apresentam uma ASSIMETRIA POSITIVA"
      ],
      "execution_count": 43,
      "outputs": [
        {
          "output_type": "display_data",
          "data": {
            "image/png": "[encoded data removed]",
            "text/plain": [
              "<Figure size 432x288 with 1 Axes>"
            ]
          },
          "metadata": {
            "tags": []
          }
        }
      ]
    },
    {
      "cell_type": "markdown",
      "metadata": {
        "id": "n363DKldpDSU",
        "colab_type": "text"
      },
      "source": [
        "### Aplicação da Normalização sobre os Dados\n",
        "\n",
        "1. Inicialmente instancia-se o objeto chamado de \"norma\":\n",
        "                              norma = Normalizer(norm = 'l2'/'l1'/'max' ).fit (data)\n",
        "\n",
        "2. Em seguida, aplica-se a normalização L2 sobre os dados:\n",
        "                              normalized_data = norma.transform(data)\n",
        "\n",
        "\n",
        "- OBS:\n",
        "    - data --> dados a serem normalizados\n",
        "    - norma --> nome do objeto instanciado para ser normalizado\n",
        "    - normalized_data --> dados normalizados\n",
        "    - Por default, a norma (norm) padrão é 'l2'"
      ]
    },
    {
      "cell_type": "code",
      "metadata": {
        "id": "FdmOcC8WpgVF",
        "colab_type": "code",
        "colab": {}
      },
      "source": [
        "# Instanciamento do objeto \"norma\":\n",
        "norma = Normalizer().fit(data)"
      ],
      "execution_count": 0,
      "outputs": []
    },
    {
      "cell_type": "code",
      "metadata": {
        "id": "MSLz0OKbqD-a",
        "colab_type": "code",
        "colab": {
          "base_uri": "https://localhost:8080/",
          "height": 90
        },
        "outputId": "bc27a53a-c75b-4004-b715-34ac4e950583"
      },
      "source": [
        "# Normalização (L2) dos dados:\n",
        "dados_normalizados = norma.transform(data,)\n",
        "print(dados_normalizados)"
      ],
      "execution_count": 48,
      "outputs": [
        {
          "output_type": "stream",
          "text": [
            "[[-0.4472136   0.89442719]\n",
            " [ 0.08304548  0.99654576]\n",
            " [ 0.          1.        ]\n",
            " [ 0.05547002  0.99846035]]\n"
          ],
          "name": "stdout"
        }
      ]
    },
    {
      "cell_type": "markdown",
      "metadata": {
        "id": "V2JvGRjIsIOF",
        "colab_type": "text"
      },
      "source": [
        "### Tranformando o Numpy Array Normalizado para um Numpy Array Normalizado de 1D"
      ]
    },
    {
      "cell_type": "code",
      "metadata": {
        "id": "Jn92ib5iqsHf",
        "colab_type": "code",
        "colab": {
          "base_uri": "https://localhost:8080/",
          "height": 54
        },
        "outputId": "babc9d05-6562-40ff-f5b5-bb4d771ffb88"
      },
      "source": [
        "# Tranformação do Numpy Array Normalizado de 2D para um Numpy Array Normalizado\n",
        "# de 1D\n",
        "dados_normalizados = dados_normalizados.reshape(-1)\n",
        "dados_normalizados"
      ],
      "execution_count": 50,
      "outputs": [
        {
          "output_type": "execute_result",
          "data": {
            "text/plain": [
              "array([-0.4472136 ,  0.89442719,  0.08304548,  0.99654576,  0.        ,\n",
              "        1.        ,  0.05547002,  0.99846035])"
            ]
          },
          "metadata": {
            "tags": []
          },
          "execution_count": 50
        }
      ]
    },
    {
      "cell_type": "markdown",
      "metadata": {
        "id": "V9UegWZgsnHP",
        "colab_type": "text"
      },
      "source": [
        "### Cálculo da Média Aritmética dos Dados Normalizados"
      ]
    },
    {
      "cell_type": "code",
      "metadata": {
        "id": "KDKzYCVTsYnl",
        "colab_type": "code",
        "colab": {
          "base_uri": "https://localhost:8080/",
          "height": 35
        },
        "outputId": "00488808-6502-4572-a2a3-c6b1c89b36fe"
      },
      "source": [
        "# Cálculo da média aritmética para os dados normalizados\n",
        "np.mean(dados_normalizados)"
      ],
      "execution_count": 51,
      "outputs": [
        {
          "output_type": "execute_result",
          "data": {
            "text/plain": [
              "0.4475919008033141"
            ]
          },
          "metadata": {
            "tags": []
          },
          "execution_count": 51
        }
      ]
    },
    {
      "cell_type": "markdown",
      "metadata": {
        "id": "gPOZ6-K0s0Gn",
        "colab_type": "text"
      },
      "source": [
        "### Visualização dos Dados Normalizados pela Norma L2\n",
        "\n",
        "- Agora, note que a distribuição dos dados normalizados se assemelha mais à distribuição normal"
      ]
    },
    {
      "cell_type": "code",
      "metadata": {
        "id": "IvmuhtyCsttC",
        "colab_type": "code",
        "colab": {
          "base_uri": "https://localhost:8080/",
          "height": 268
        },
        "outputId": "6cbf8160-90d1-4e53-9ece-f3a7e7eb4d8f"
      },
      "source": [
        "# Plotagem do histograma com modelo de distribuição de frequências para os dados\n",
        "# normalizados\n",
        "sns.distplot(dados_normalizados)\n",
        "plt.show()"
      ],
      "execution_count": 52,
      "outputs": [
        {
          "output_type": "display_data",
          "data": {
            "image/png": "[encoded data removed]",
            "text/plain": [
              "<Figure size 432x288 with 1 Axes>"
            ]
          },
          "metadata": {
            "tags": []
          }
        }
      ]
    },
    {
      "cell_type": "markdown",
      "metadata": {
        "id": "C8jOJ4UXwD02",
        "colab_type": "text"
      },
      "source": [
        "# Aula 14 - Standardization - Técnica MinMaxScaler\n",
        "\n",
        "- A Padronização, quando aplicada, realiza uma \"re-escala\" dos dados, ou seja, ela essa técnica padroniza os dados, de modo que eles fiquem na mesma faixa/escala de valores\n",
        "- Diferentemente da normalização, a padronização NÃO altera a distribuição dos dados. Ela, simplesmente, realiza uma re-escala dos dados\n",
        "- Ela é de suma importância para tratar dados que serão submetidos a algoritmos baseados em distância. Isso é importante, pois, nesse caso, os valores que se encontram em m, km e cm, por exemplo, devem ser re-escalados para um mesmo intervalo/escala/unidade\n",
        "- Uma técnica bastante utilizada é a **`minmax`**, em que todos os dados são re-escalados para valores entre 0 e 1. Nessa situação, o 0 é o menor valor possível, enquanto o 1 é o maior valor possível"
      ]
    },
    {
      "cell_type": "markdown",
      "metadata": {
        "id": "nxXHBd2QfkBU",
        "colab_type": "text"
      },
      "source": [
        "## Principais Técnicas de Stadardization\n",
        "\n",
        "- **MinMaxScaler** --> aplica uma re-escala a um dataset, de tal maneira que os valores re-escalados passam a se encontrar entre 0 e 1\n",
        "\n",
        "- StandardScaler --> aplica uma re-escala a um dataset, de tal maneira que a escala dos dados re-escalados é mais fiel aos dados originais do que no caso da técnica anterior\n",
        "\n",
        "- Em ambas as técnicas, não há alteração na distribuição de frequências dos dados originais"
      ]
    },
    {
      "cell_type": "markdown",
      "metadata": {
        "id": "qNjXVf7JTxst",
        "colab_type": "text"
      },
      "source": [
        "## Criando um Dataset com números aleatoriamente selecionados com Distribuição Normal\n",
        "\n",
        "                                          dataset = np.random.normal(size = n)\n",
        "\n",
        "- Esse método seleciona um número \"n\" de valores aleatórios que apresentam uma distribuição normal"
      ]
    },
    {
      "cell_type": "code",
      "metadata": {
        "id": "RFcitMr5wH6y",
        "colab_type": "code",
        "colab": {
          "base_uri": "https://localhost:8080/",
          "height": 181
        },
        "outputId": "c889eed8-c306-4cc5-f8c6-85419eb90ff3"
      },
      "source": [
        "data = np.random.normal(size = 50)\n",
        "print(data)"
      ],
      "execution_count": 78,
      "outputs": [
        {
          "output_type": "stream",
          "text": [
            "[-0.07276493  0.42618029 -1.49870859  1.43660099  0.6586437   0.97532044\n",
            "  1.03282354  0.83329658 -0.62248026  0.17726837 -1.15106271  0.35671958\n",
            " -0.53400687  1.43822323  0.46499316  1.21949679 -0.84300273 -0.23846873\n",
            "  0.49888694  1.61924325 -0.83601182 -0.67685064  0.92759623  1.32534686\n",
            " -1.19817394  1.46173689 -0.8646966   0.2966544   1.03178324 -1.17608578\n",
            "  0.94445339  1.59980705 -0.11621612  1.13159655 -0.03254312 -0.86982779\n",
            "  0.59496792 -1.56162874  0.49913032 -0.40711924  0.75006827 -1.00915438\n",
            "  2.21464758 -0.62022372  0.4376373  -1.18761436  1.18568593 -1.59199707\n",
            "  1.83338492 -0.46175684]\n"
          ],
          "name": "stdout"
        }
      ]
    },
    {
      "cell_type": "markdown",
      "metadata": {
        "id": "46nb90aEUlNz",
        "colab_type": "text"
      },
      "source": [
        "## Tranformação de um Numpy Array em um Numpy Array de 1D\n",
        "\n",
        "                                      dataset = dataset.reshape(-1,1)\n",
        "\n",
        "- Transforma um Numpy Array em um Numpy Array de 1D\n",
        "\n",
        "- OBS.: esse método deve deve receber os parâmetros (-1,1), caso contrário dá um erro na etapa de instanciação do objeto \"scaler\""
      ]
    },
    {
      "cell_type": "code",
      "metadata": {
        "id": "dgOgrrsoTvvO",
        "colab_type": "code",
        "colab": {
          "base_uri": "https://localhost:8080/",
          "height": 926
        },
        "outputId": "3f6357ff-c14c-42f5-a44c-03d3fccead9f"
      },
      "source": [
        "data = np.array(data)\n",
        "data = data.reshape(-1,1)\n",
        "data"
      ],
      "execution_count": 79,
      "outputs": [
        {
          "output_type": "execute_result",
          "data": {
            "text/plain": [
              "array([[-0.07276493],\n",
              "       [ 0.42618029],\n",
              "       [-1.49870859],\n",
              "       [ 1.43660099],\n",
              "       [ 0.6586437 ],\n",
              "       [ 0.97532044],\n",
              "       [ 1.03282354],\n",
              "       [ 0.83329658],\n",
              "       [-0.62248026],\n",
              "       [ 0.17726837],\n",
              "       [-1.15106271],\n",
              "       [ 0.35671958],\n",
              "       [-0.53400687],\n",
              "       [ 1.43822323],\n",
              "       [ 0.46499316],\n",
              "       [ 1.21949679],\n",
              "       [-0.84300273],\n",
              "       [-0.23846873],\n",
              "       [ 0.49888694],\n",
              "       [ 1.61924325],\n",
              "       [-0.83601182],\n",
              "       [-0.67685064],\n",
              "       [ 0.92759623],\n",
              "       [ 1.32534686],\n",
              "       [-1.19817394],\n",
              "       [ 1.46173689],\n",
              "       [-0.8646966 ],\n",
              "       [ 0.2966544 ],\n",
              "       [ 1.03178324],\n",
              "       [-1.17608578],\n",
              "       [ 0.94445339],\n",
              "       [ 1.59980705],\n",
              "       [-0.11621612],\n",
              "       [ 1.13159655],\n",
              "       [-0.03254312],\n",
              "       [-0.86982779],\n",
              "       [ 0.59496792],\n",
              "       [-1.56162874],\n",
              "       [ 0.49913032],\n",
              "       [-0.40711924],\n",
              "       [ 0.75006827],\n",
              "       [-1.00915438],\n",
              "       [ 2.21464758],\n",
              "       [-0.62022372],\n",
              "       [ 0.4376373 ],\n",
              "       [-1.18761436],\n",
              "       [ 1.18568593],\n",
              "       [-1.59199707],\n",
              "       [ 1.83338492],\n",
              "       [-0.46175684]])"
            ]
          },
          "metadata": {
            "tags": []
          },
          "execution_count": 79
        }
      ]
    },
    {
      "cell_type": "markdown",
      "metadata": {
        "id": "Bp_NNJFGVgcs",
        "colab_type": "text"
      },
      "source": [
        "## Visualização dos Dados\n",
        "\n",
        "- Plotagem de histograma com o modelo de distribuição de frequências"
      ]
    },
    {
      "cell_type": "code",
      "metadata": {
        "id": "H_Cp70DMVS3R",
        "colab_type": "code",
        "colab": {
          "base_uri": "https://localhost:8080/",
          "height": 268
        },
        "outputId": "c5719d55-08eb-4049-a43b-34aa32599740"
      },
      "source": [
        "sns.distplot(data)\n",
        "plt.show()"
      ],
      "execution_count": 80,
      "outputs": [
        {
          "output_type": "display_data",
          "data": {
            "image/png": "[encoded data removed]",
            "text/plain": [
              "<Figure size 432x288 with 1 Axes>"
            ]
          },
          "metadata": {
            "tags": []
          }
        }
      ]
    },
    {
      "cell_type": "markdown",
      "metadata": {
        "id": "7Nv4rOvKarFH",
        "colab_type": "text"
      },
      "source": [
        "## Verificação de Máximo e Mínimo do Dataset\n",
        "\n",
        "- Note que os valores estão entre -1 e 2"
      ]
    },
    {
      "cell_type": "code",
      "metadata": {
        "id": "9vpqjQSHa8_U",
        "colab_type": "code",
        "colab": {
          "base_uri": "https://localhost:8080/",
          "height": 54
        },
        "outputId": "cca4dafc-8d35-46b0-a648-9da1c60f0b98"
      },
      "source": [
        "# Cálculo dos valores máximo e mínimo do dataset não re-escalado\n",
        "minimo = data.min()\n",
        "maximo = data.max()\n",
        "# Imprimindo min e max\n",
        "print(\"Valor Mínimo = {}\".format(minimo))\n",
        "print(\"Valor Máximo = {}\".format(maximo))"
      ],
      "execution_count": 81,
      "outputs": [
        {
          "output_type": "stream",
          "text": [
            "Valor Mínimo = -1.5919970666687515\n",
            "Valor Máximo = 2.2146475838326243\n"
          ],
          "name": "stdout"
        }
      ]
    },
    {
      "cell_type": "markdown",
      "metadata": {
        "id": "pa0MnZTCVvYk",
        "colab_type": "text"
      },
      "source": [
        "## Importação de Bibliotecas"
      ]
    },
    {
      "cell_type": "code",
      "metadata": {
        "id": "QmfARpd0VqOj",
        "colab_type": "code",
        "colab": {}
      },
      "source": [
        "from sklearn.preprocessing import MinMaxScaler"
      ],
      "execution_count": 0,
      "outputs": []
    },
    {
      "cell_type": "markdown",
      "metadata": {
        "id": "ntjpGzv8V6Ox",
        "colab_type": "text"
      },
      "source": [
        "## Instanciação do Objeto \"Scaler\"\n",
        "\n",
        "                                  scaler = MinMaxScaler( ).fit(dataset)\n",
        "\n",
        "- Atribui-se o método \"MinMaxScaler\" a um objeto \"scaler\" e o \"treina\" (fit) com o dataset"
      ]
    },
    {
      "cell_type": "code",
      "metadata": {
        "id": "Hsbdtv3GV0Xo",
        "colab_type": "code",
        "colab": {}
      },
      "source": [
        "# Instanciação do objeto \"scaler\"\n",
        "scaler = MinMaxScaler().fit(data)"
      ],
      "execution_count": 0,
      "outputs": []
    },
    {
      "cell_type": "markdown",
      "metadata": {
        "id": "cDAEpgJlXjFI",
        "colab_type": "text"
      },
      "source": [
        "## Aplicação da Re-escala ao Dataset - MinMaxScaler\n",
        "\n",
        "                                dataset_scaled = scaler.transform(dataset)"
      ]
    },
    {
      "cell_type": "code",
      "metadata": {
        "id": "Lizzpc3IWa9u",
        "colab_type": "code",
        "colab": {
          "base_uri": "https://localhost:8080/",
          "height": 926
        },
        "outputId": "49f1d7ce-7f0b-4b53-dc7d-738814bc4b45"
      },
      "source": [
        "# Aplicação da re-escala sobre os dados\n",
        "data_scaled = scaler.transform(data)\n",
        "print(data_scaled)\n",
        "\n",
        "# OBS.: note que os valores re-escalados encontram-se entre 0 e 1"
      ],
      "execution_count": 84,
      "outputs": [
        {
          "output_type": "stream",
          "text": [
            "[[0.39910007]\n",
            " [0.53017225]\n",
            " [0.02450675]\n",
            " [0.79560829]\n",
            " [0.59124005]\n",
            " [0.67443057]\n",
            " [0.68953655]\n",
            " [0.6371211 ]\n",
            " [0.25469065]\n",
            " [0.46478345]\n",
            " [0.11583281]\n",
            " [0.51192502]\n",
            " [0.27793248]\n",
            " [0.79603445]\n",
            " [0.54036833]\n",
            " [0.73857534]\n",
            " [0.19675972]\n",
            " [0.35556992]\n",
            " [0.54927218]\n",
            " [0.84358815]\n",
            " [0.19859622]\n",
            " [0.24040763]\n",
            " [0.66189349]\n",
            " [0.766382  ]\n",
            " [0.10345676]\n",
            " [0.80221146]\n",
            " [0.19106077]\n",
            " [0.49614599]\n",
            " [0.68926326]\n",
            " [0.10925929]\n",
            " [0.66632184]\n",
            " [0.83848229]\n",
            " [0.3876855 ]\n",
            " [0.71548407]\n",
            " [0.40966628]\n",
            " [0.18971282]\n",
            " [0.57451251]\n",
            " [0.00797772]\n",
            " [0.54933611]\n",
            " [0.31126568]\n",
            " [0.61525715]\n",
            " [0.15311192]\n",
            " [1.        ]\n",
            " [0.25528344]\n",
            " [0.53318199]\n",
            " [0.10623075]\n",
            " [0.72969327]\n",
            " [0.        ]\n",
            " [0.89984285]\n",
            " [0.29691246]]\n"
          ],
          "name": "stdout"
        }
      ]
    },
    {
      "cell_type": "markdown",
      "metadata": {
        "id": "ReWMWfcjYKP0",
        "colab_type": "text"
      },
      "source": [
        "## Alteração do Numpy Array para um Numpy Array de 1D\n",
        "\n",
        "                                      data_scaled = data_scaled.reshape (-1,1)"
      ]
    },
    {
      "cell_type": "code",
      "metadata": {
        "id": "lDWtt11HYB4C",
        "colab_type": "code",
        "colab": {}
      },
      "source": [
        "data_scaled = data_scaled.reshape(-1,1)"
      ],
      "execution_count": 0,
      "outputs": []
    },
    {
      "cell_type": "markdown",
      "metadata": {
        "id": "DSVNr3CFclYT",
        "colab_type": "text"
      },
      "source": [
        "## Mínimo e Máximo do Dataset após a Aplicação da Re-escala\n",
        "\n",
        "- Note que os valores, agora, situam-se entre 0 e 1"
      ]
    },
    {
      "cell_type": "code",
      "metadata": {
        "id": "Te497ydydCNR",
        "colab_type": "code",
        "colab": {
          "base_uri": "https://localhost:8080/",
          "height": 54
        },
        "outputId": "bb560d73-ece4-4b2b-eb48-854263ed75a3"
      },
      "source": [
        "# Cálculo dos valores máximo e mínimo do dataset re-escalado\n",
        "minimo = data_scaled.min()\n",
        "maximo = data_scaled.max()\n",
        "# Imprimindo min e max\n",
        "print(\"Valor Mínimo Re-escalado = {}\".format(minimo))\n",
        "print(\"Valor Máximo Re-escalado = {}\".format(maximo))"
      ],
      "execution_count": 86,
      "outputs": [
        {
          "output_type": "stream",
          "text": [
            "Valor Mínimo Re-escalado = 0.0\n",
            "Valor Máximo Re-escalado = 1.0\n"
          ],
          "name": "stdout"
        }
      ]
    },
    {
      "cell_type": "markdown",
      "metadata": {
        "id": "16OozxJbYmNp",
        "colab_type": "text"
      },
      "source": [
        "## Visualização dos Dados Re-escalados\n",
        "\n",
        "- Note que a técnica \"MinMaxScaler\" é responsável por **re-escalar** um dataset, de forma que seus valores estejam entre 0 e 1\n",
        "- Note que NÃO HOUVE UMA MUDANÇA NA FORMA DA DISTRIBUIÇÃO DE FREQUÊNCIAS"
      ]
    },
    {
      "cell_type": "code",
      "metadata": {
        "id": "s8MECAxiYqGR",
        "colab_type": "code",
        "colab": {
          "base_uri": "https://localhost:8080/",
          "height": 268
        },
        "outputId": "3504c791-6a0e-46c3-9fb4-9135dfe1a5cc"
      },
      "source": [
        "# Plotagem de histograma e modelo de distribuição de frequências dos dados\n",
        "# re-escalados\n",
        "sns.distplot(data_scaled)\n",
        "plt.show()"
      ],
      "execution_count": 87,
      "outputs": [
        {
          "output_type": "display_data",
          "data": {
            "image/png": "[encoded data removed]",
            "text/plain": [
              "<Figure size 432x288 with 1 Axes>"
            ]
          },
          "metadata": {
            "tags": []
          }
        }
      ]
    },
    {
      "cell_type": "markdown",
      "metadata": {
        "id": "_-epzECQZ7oU",
        "colab_type": "text"
      },
      "source": [
        "# Aula 15 - Standardization - Técnica StandardScaler\n",
        "\n",
        "- Padroniza a escala dos dados sem interferir na sua forma\n",
        "\n",
        "- Mantém a escala dos dados mais fiel que a técnica \"MinMaxScale\""
      ]
    },
    {
      "cell_type": "markdown",
      "metadata": {
        "id": "YZErl3hdiNpy",
        "colab_type": "text"
      },
      "source": [
        "## Criação de um Dataset de Distribuição Normal"
      ]
    },
    {
      "cell_type": "code",
      "metadata": {
        "id": "LgiSH7IhYuWa",
        "colab_type": "code",
        "colab": {
          "base_uri": "https://localhost:8080/",
          "height": 181
        },
        "outputId": "23132089-c4ed-48b8-bd77-7480f74f3c4b"
      },
      "source": [
        "# Criação de um dataset com distribuição normal\n",
        "dataset = np.random.normal(size = 50)\n",
        "print(dataset)"
      ],
      "execution_count": 93,
      "outputs": [
        {
          "output_type": "stream",
          "text": [
            "[-0.21599712  0.45283812 -0.77664949  0.22770964 -0.26378226 -0.79610144\n",
            "  0.06573627  0.92812494  1.39365851  1.48770942  2.64116959 -0.27044037\n",
            " -0.69590436 -0.64577867  0.04984806  0.60007934 -1.09513435  0.83195936\n",
            " -1.19805159  0.92737411  2.11969414  0.40869547  1.32814614 -2.02716127\n",
            " -0.75045893  0.0310526  -2.04382592  2.30029625  0.81407429  0.40741443\n",
            "  0.61086572 -0.12132849  0.38786689  0.24128887 -0.68818464 -0.49159991\n",
            "  0.31252626  0.06158728  1.02562311  2.0508513   0.43618317  1.82281022\n",
            " -0.06432648  1.48300859 -1.5314685   0.80266888 -0.24942501 -0.10400787\n",
            "  0.42483335 -0.14631924]\n"
          ],
          "name": "stdout"
        }
      ]
    },
    {
      "cell_type": "markdown",
      "metadata": {
        "id": "LpVpI_ZfiWNt",
        "colab_type": "text"
      },
      "source": [
        "## Transformação do Dataset Criado para um Numpy Array de 1D"
      ]
    },
    {
      "cell_type": "code",
      "metadata": {
        "id": "Ifc_SDxZiVgq",
        "colab_type": "code",
        "colab": {}
      },
      "source": [
        "# Transformação do dataset para um numpy array\n",
        "dataset = np.array (dataset)"
      ],
      "execution_count": 0,
      "outputs": []
    },
    {
      "cell_type": "code",
      "metadata": {
        "id": "_SzrO_QJiryI",
        "colab_type": "code",
        "colab": {}
      },
      "source": [
        "# Transformação em um numpy array de apenas 1D\n",
        "dataset = dataset.reshape(-1,1)"
      ],
      "execution_count": 0,
      "outputs": []
    },
    {
      "cell_type": "markdown",
      "metadata": {
        "id": "3qjxHRPZi-Xy",
        "colab_type": "text"
      },
      "source": [
        "## Visualização Prévia dos Dados"
      ]
    },
    {
      "cell_type": "code",
      "metadata": {
        "id": "ATlHdtOJiyQD",
        "colab_type": "code",
        "colab": {
          "base_uri": "https://localhost:8080/",
          "height": 271
        },
        "outputId": "d857f8d9-24d1-460d-e676-d89b394b5d8e"
      },
      "source": [
        "# Plotagem dos histogramas e do modelo de distribuição de frequências\n",
        "sns.distplot(dataset)\n",
        "plt.show()"
      ],
      "execution_count": 96,
      "outputs": [
        {
          "output_type": "display_data",
          "data": {
            "image/png": "[encoded data removed]",
            "text/plain": [
              "<Figure size 432x288 with 1 Axes>"
            ]
          },
          "metadata": {
            "tags": []
          }
        }
      ]
    },
    {
      "cell_type": "markdown",
      "metadata": {
        "id": "YvuNwMC3kBcM",
        "colab_type": "text"
      },
      "source": [
        "## Cálculo de Máximo e Mínimo do Dataset Não Re-escalado"
      ]
    },
    {
      "cell_type": "code",
      "metadata": {
        "id": "7qNJpSP5jRHA",
        "colab_type": "code",
        "colab": {
          "base_uri": "https://localhost:8080/",
          "height": 54
        },
        "outputId": "fec050a1-c8d7-4d14-cff0-fdcbe262c8a2"
      },
      "source": [
        "# Cálculo dos valores máximo e mínimo do dataset não re-escalado\n",
        "minimo = dataset.min()\n",
        "maximo = dataset.max()\n",
        "# Imprimindo min e max\n",
        "print(\"Valor Mínimo = {}\".format(minimo))\n",
        "print(\"Valor Máximo = {}\".format(maximo))"
      ],
      "execution_count": 97,
      "outputs": [
        {
          "output_type": "stream",
          "text": [
            "Valor Mínimo = -2.0438259244103802\n",
            "Valor Máximo = 2.6411695948182445\n"
          ],
          "name": "stdout"
        }
      ]
    },
    {
      "cell_type": "markdown",
      "metadata": {
        "id": "1Ma_VdgwkMQW",
        "colab_type": "text"
      },
      "source": [
        "## Importação das Bibliotecas"
      ]
    },
    {
      "cell_type": "code",
      "metadata": {
        "id": "xB_gzxlUkORB",
        "colab_type": "code",
        "colab": {}
      },
      "source": [
        "from sklearn.preprocessing import StandardScaler"
      ],
      "execution_count": 0,
      "outputs": []
    },
    {
      "cell_type": "markdown",
      "metadata": {
        "id": "scw3-uRTkTWh",
        "colab_type": "text"
      },
      "source": [
        "## Instanciação do Objeto \"stdscaler\"\n",
        "\n",
        "- Atribuição do método \"StandardScaler\" a um objeto chamado \"stdscaler\"\n",
        "- Em seguida ele é \"alimentado\" pelos dados\n",
        "\n",
        "                           stdscaler = StandardScaler( ).fit(dataset)"
      ]
    },
    {
      "cell_type": "code",
      "metadata": {
        "id": "EZ7xNcN7kQVo",
        "colab_type": "code",
        "colab": {}
      },
      "source": [
        "stdscaler = StandardScaler().fit(dataset)"
      ],
      "execution_count": 0,
      "outputs": []
    },
    {
      "cell_type": "markdown",
      "metadata": {
        "id": "__nvMsjalBHl",
        "colab_type": "text"
      },
      "source": [
        "## Aplicação da Re-escala do Dataset - StandardScaler"
      ]
    },
    {
      "cell_type": "code",
      "metadata": {
        "id": "DWLM4jWtk_Dn",
        "colab_type": "code",
        "colab": {
          "base_uri": "https://localhost:8080/",
          "height": 945
        },
        "outputId": "143f8f61-55d4-4705-df6e-a8bc5b688236"
      },
      "source": [
        "dataset_scaled = stdscaler.transform(dataset)\n",
        "print(dataset_scaled)\n",
        "print(type(dataset_scaled)) # Já é um np array"
      ],
      "execution_count": 101,
      "outputs": [
        {
          "output_type": "stream",
          "text": [
            "[[-0.45238448]\n",
            " [ 0.19691985]\n",
            " [-0.99666503]\n",
            " [-0.02163456]\n",
            " [-0.49877423]\n",
            " [-1.01554895]\n",
            " [-0.17887809]\n",
            " [ 0.65832764]\n",
            " [ 1.11026699]\n",
            " [ 1.20157149]\n",
            " [ 2.32134904]\n",
            " [-0.50523792]\n",
            " [-0.91827777]\n",
            " [-0.86961582]\n",
            " [-0.19430234]\n",
            " [ 0.33986143]\n",
            " [-1.3058497 ]\n",
            " [ 0.56497024]\n",
            " [-1.40576161]\n",
            " [ 0.65759874]\n",
            " [ 1.81510139]\n",
            " [ 0.15406623]\n",
            " [ 1.04666768]\n",
            " [-2.21066015]\n",
            " [-0.97123927]\n",
            " [-0.21254895]\n",
            " [-2.22683817]\n",
            " [ 1.99042967]\n",
            " [ 0.54760743]\n",
            " [ 0.15282259]\n",
            " [ 0.35033283]\n",
            " [-0.3604803 ]\n",
            " [ 0.13384587]\n",
            " [-0.00845187]\n",
            " [-0.91078347]\n",
            " [-0.71993928]\n",
            " [ 0.06070529]\n",
            " [-0.18290593]\n",
            " [ 0.75297873]\n",
            " [ 1.74826885]\n",
            " [ 0.18075125]\n",
            " [ 1.52688689]\n",
            " [-0.30514283]\n",
            " [ 1.19700793]\n",
            " [-1.72944229]\n",
            " [ 0.53653507]\n",
            " [-0.48483623]\n",
            " [-0.34366547]\n",
            " [ 0.16973286]\n",
            " [-0.38474129]]\n",
            "<class 'numpy.ndarray'>\n"
          ],
          "name": "stdout"
        }
      ]
    },
    {
      "cell_type": "markdown",
      "metadata": {
        "id": "tDAM87F_lp40",
        "colab_type": "text"
      },
      "source": [
        "## Alteração do Array Re-escalado para um Numpy Array 1D"
      ]
    },
    {
      "cell_type": "code",
      "metadata": {
        "id": "XDN5Q9XzleKb",
        "colab_type": "code",
        "colab": {}
      },
      "source": [
        "dataset_scaled = dataset_scaled.reshape(-1,1)"
      ],
      "execution_count": 0,
      "outputs": []
    },
    {
      "cell_type": "markdown",
      "metadata": {
        "id": "7p5vARJel3DE",
        "colab_type": "text"
      },
      "source": [
        "## Mínimo e Máximo do Dataset após a Aplicação da Re-escala\n",
        "\n",
        "- Note que os valores máximo e mínimo pouco mudaram após a aplicação da re-escala\n",
        "- Portanto, a técnica \"StandardScaler\", além de não alterar a distribuição de frequências do dataset, ela busca manter a escala/intervalo original dos dados e consegue fazer isso melhor do que a técnica \"MinMaxScaler\""
      ]
    },
    {
      "cell_type": "code",
      "metadata": {
        "id": "_6HvqqOPl1EG",
        "colab_type": "code",
        "colab": {
          "base_uri": "https://localhost:8080/",
          "height": 54
        },
        "outputId": "a4b92d37-5e90-4857-d6e0-e148eab0c17c"
      },
      "source": [
        "# Cálculo dos valores máximo e mínimo do dataset não re-escalado\n",
        "minimo = dataset_scaled.min()\n",
        "maximo = dataset_scaled.max()\n",
        "# Imprimindo min e max\n",
        "print(\"Valor Mínimo Re-escalado = {}\".format(minimo))\n",
        "print(\"Valor Máximo Re-escalado = {}\".format(maximo))"
      ],
      "execution_count": 103,
      "outputs": [
        {
          "output_type": "stream",
          "text": [
            "Valor Mínimo Re-escalado = -2.2268381722588795\n",
            "Valor Máximo Re-escalado = 2.321349043630641\n"
          ],
          "name": "stdout"
        }
      ]
    },
    {
      "cell_type": "markdown",
      "metadata": {
        "id": "w-C994Uym3e-",
        "colab_type": "text"
      },
      "source": [
        "## Visualização dos Dados Re-escalados\n",
        "\n",
        "- Note que a distribuição de frequências do dataset não foi alterada"
      ]
    },
    {
      "cell_type": "code",
      "metadata": {
        "id": "pbnJ8W_jm7Ri",
        "colab_type": "code",
        "colab": {
          "base_uri": "https://localhost:8080/",
          "height": 268
        },
        "outputId": "791dc80b-6003-452b-a2f7-272578690cae"
      },
      "source": [
        "sns.distplot(dataset_scaled)\n",
        "plt.show()"
      ],
      "execution_count": 104,
      "outputs": [
        {
          "output_type": "display_data",
          "data": {
            "image/png": "[encoded data removed]",
            "text/plain": [
              "<Figure size 432x288 with 1 Axes>"
            ]
          },
          "metadata": {
            "tags": []
          }
        }
      ]
    },
    {
      "cell_type": "markdown",
      "metadata": {
        "id": "N4H-HuyroRio",
        "colab_type": "text"
      },
      "source": [
        "# Resumo - Técnicas de Pré-processamento de Dados\n",
        "\n",
        "**Detecção de Anomalias**\n",
        "- Consiste na identificação de anomalias/outliers e tratamento desses\n",
        "- As anomalias/outliers podem ser descartados (conforme mostrado), ou ainda, substituídos por algum valor (média dos valores, por exemplo)\n",
        "- Algumas definições de outlier:\n",
        "  - media - 2DP > outliers > media + 2DP\n",
        "  - Q1 - 1.5(IQR) > outliers > Q3 + 1.5(IQR)\n",
        "\n",
        "**Discretização**\n",
        "- Consiste na transformação de variáveis contínuas em variáveis discretas (nominais ou ordinais), cujos valores representam classes/bins\n",
        "\n",
        "**Normalização**\n",
        "- Tranforma a distribuição de um dataset, de modo que, se aplicada a norma L2 (Euclidiana), o resultado é aproximar os dados de uma distribuição normal\n",
        "- É fundamental a aplicação dessa técnica para a preparação de dados que serão submetidos a algoritmos de ML que assumem que os dados tenham uma distribuição normal\n",
        "- Principal técnica --> Normalizer\n",
        "\n",
        "**Standardização**\n",
        "- Não tranforma a forma da distribuição de um dataset, como a normalização\n",
        "- Realiza uma re-escala de um dataset para um determinado intervalo:\n",
        "    - MinMaxScaler --> re-escala dos dados para um intervalo entre 0 e 1\n",
        "    - StandardScaler --> re-escala dos dados para um intervalo semelhante ao original\n",
        "- É uma técnica praticamente obigatória para a preparação de dados que serão submetidos a algoritmos de ML baseados em distância"
      ]
    }
  ]
}