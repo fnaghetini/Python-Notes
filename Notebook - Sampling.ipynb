{
  "nbformat": 4,
  "nbformat_minor": 0,
  "metadata": {
    "colab": {
      "name": "Notebook Franco - Sampling.ipynb",
      "provenance": [],
      "collapsed_sections": [],
      "toc_visible": true
    },
    "kernelspec": {
      "name": "python3",
      "display_name": "Python 3"
    }
  },
  "cells": [
    {
      "cell_type": "markdown",
      "metadata": {
        "id": "BtLGGfuahJf_",
        "colab_type": "text"
      },
      "source": [
        "# Aula 07 - Técnicas de Amostragem de Dados"
      ]
    },
    {
      "cell_type": "markdown",
      "metadata": {
        "id": "Moj0HIS9hWf1",
        "colab_type": "text"
      },
      "source": [
        "## Principais Técnicas de Amostragem\n",
        "\n",
        "- Aleatória Simples\n",
        "- Aleatória Estratificada\n",
        "- Aleatória Sistemática\n",
        "\n",
        "![alt text](https://minerandodados.com.br/wp-content/uploads/2020/05/probability-sampling-1.png)"
      ]
    },
    {
      "cell_type": "markdown",
      "metadata": {
        "id": "tXi0LvT9hnJS",
        "colab_type": "text"
      },
      "source": [
        "## Amostragem Aleatória Simples\n",
        "\n",
        "- Seleciona um número de indivíduos da população de forma aleatória\n",
        "- Seleção aleatória significa que todos os índividuos contidos na população têm iguais chances de serem selecionados como unidade amostral"
      ]
    },
    {
      "cell_type": "code",
      "metadata": {
        "id": "kuTX8nR9hUsR",
        "colab_type": "code",
        "colab": {}
      },
      "source": [
        "import pandas as pd"
      ],
      "execution_count": 0,
      "outputs": []
    },
    {
      "cell_type": "code",
      "metadata": {
        "id": "h1VlxKWYih92",
        "colab_type": "code",
        "colab": {
          "base_uri": "https://localhost:8080/",
          "height": 299
        },
        "outputId": "354f7dd3-f065-4b6c-ade4-ddd0057ea9c3"
      },
      "source": [
        "# Importação do dataset de COVID\n",
        "path = '/content/drive/My Drive/Colab Notebooks/Data Science do ZERO/7 - Estatística Aplicada e Pré-Processamento dos Dados/Materiais Disponibilizados/covid19.csv'\n",
        "df = pd.read_csv (path)\n",
        "df.head()"
      ],
      "execution_count": 2,
      "outputs": [
        {
          "output_type": "execute_result",
          "data": {
            "text/html": [
              "<div>\n",
              "<style scoped>\n",
              "    .dataframe tbody tr th:only-of-type {\n",
              "        vertical-align: middle;\n",
              "    }\n",
              "\n",
              "    .dataframe tbody tr th {\n",
              "        vertical-align: top;\n",
              "    }\n",
              "\n",
              "    .dataframe thead th {\n",
              "        text-align: right;\n",
              "    }\n",
              "</style>\n",
              "<table border=\"1\" class=\"dataframe\">\n",
              "  <thead>\n",
              "    <tr style=\"text-align: right;\">\n",
              "      <th></th>\n",
              "      <th>case_id</th>\n",
              "      <th>provincial_case_id</th>\n",
              "      <th>age</th>\n",
              "      <th>sex</th>\n",
              "      <th>health_region</th>\n",
              "      <th>province</th>\n",
              "      <th>country</th>\n",
              "      <th>date_report</th>\n",
              "      <th>report_week</th>\n",
              "      <th>has_travel_history</th>\n",
              "      <th>locally_acquired</th>\n",
              "      <th>case_source</th>\n",
              "    </tr>\n",
              "  </thead>\n",
              "  <tbody>\n",
              "    <tr>\n",
              "      <th>0</th>\n",
              "      <td>NaN</td>\n",
              "      <td>1</td>\n",
              "      <td>50-59</td>\n",
              "      <td>Male</td>\n",
              "      <td>Toronto</td>\n",
              "      <td>Ontario</td>\n",
              "      <td>Canada</td>\n",
              "      <td>2020-01-25</td>\n",
              "      <td>2020-01-19</td>\n",
              "      <td>t</td>\n",
              "      <td>NaN</td>\n",
              "      <td>(1) https://news.ontario.ca/mohltc/en/2020/01/...</td>\n",
              "    </tr>\n",
              "    <tr>\n",
              "      <th>1</th>\n",
              "      <td>NaN</td>\n",
              "      <td>2</td>\n",
              "      <td>50-59</td>\n",
              "      <td>Female</td>\n",
              "      <td>Toronto</td>\n",
              "      <td>Ontario</td>\n",
              "      <td>Canada</td>\n",
              "      <td>2020-01-27</td>\n",
              "      <td>2020-01-26</td>\n",
              "      <td>t</td>\n",
              "      <td>NaN</td>\n",
              "      <td>(1) https://news.ontario.ca/mohltc/en/2020/01/...</td>\n",
              "    </tr>\n",
              "    <tr>\n",
              "      <th>2</th>\n",
              "      <td>NaN</td>\n",
              "      <td>1</td>\n",
              "      <td>40-49</td>\n",
              "      <td>Male</td>\n",
              "      <td>Vancouver Coastal</td>\n",
              "      <td>BC</td>\n",
              "      <td>Canada</td>\n",
              "      <td>2020-01-28</td>\n",
              "      <td>2020-01-26</td>\n",
              "      <td>t</td>\n",
              "      <td>NaN</td>\n",
              "      <td>https://news.gov.bc.ca/releases/2020HLTH0015-0...</td>\n",
              "    </tr>\n",
              "    <tr>\n",
              "      <th>3</th>\n",
              "      <td>NaN</td>\n",
              "      <td>3</td>\n",
              "      <td>20-29</td>\n",
              "      <td>Female</td>\n",
              "      <td>Middlesex-London</td>\n",
              "      <td>Ontario</td>\n",
              "      <td>Canada</td>\n",
              "      <td>2020-01-31</td>\n",
              "      <td>2020-01-26</td>\n",
              "      <td>t</td>\n",
              "      <td>NaN</td>\n",
              "      <td>(1) https://news.ontario.ca/mohltc/en/2020/01/...</td>\n",
              "    </tr>\n",
              "    <tr>\n",
              "      <th>4</th>\n",
              "      <td>NaN</td>\n",
              "      <td>2</td>\n",
              "      <td>50-59</td>\n",
              "      <td>Female</td>\n",
              "      <td>Vancouver Coastal</td>\n",
              "      <td>BC</td>\n",
              "      <td>Canada</td>\n",
              "      <td>2020-02-04</td>\n",
              "      <td>2020-02-02</td>\n",
              "      <td>f</td>\n",
              "      <td>Close Contact</td>\n",
              "      <td>https://news.gov.bc.ca/releases/2020HLTH0023-0...</td>\n",
              "    </tr>\n",
              "  </tbody>\n",
              "</table>\n",
              "</div>"
            ],
            "text/plain": [
              "   case_id  ...                                        case_source\n",
              "0      NaN  ...  (1) https://news.ontario.ca/mohltc/en/2020/01/...\n",
              "1      NaN  ...  (1) https://news.ontario.ca/mohltc/en/2020/01/...\n",
              "2      NaN  ...  https://news.gov.bc.ca/releases/2020HLTH0015-0...\n",
              "3      NaN  ...  (1) https://news.ontario.ca/mohltc/en/2020/01/...\n",
              "4      NaN  ...  https://news.gov.bc.ca/releases/2020HLTH0023-0...\n",
              "\n",
              "[5 rows x 12 columns]"
            ]
          },
          "metadata": {
            "tags": []
          },
          "execution_count": 2
        }
      ]
    },
    {
      "cell_type": "code",
      "metadata": {
        "id": "K-3VjBkHiz7N",
        "colab_type": "code",
        "colab": {
          "base_uri": "https://localhost:8080/",
          "height": 336
        },
        "outputId": "4f4ff01a-a82b-49de-8c02-379c7afa7a6f"
      },
      "source": [
        "# Informações sobre o dataset\n",
        "df.info()"
      ],
      "execution_count": 3,
      "outputs": [
        {
          "output_type": "stream",
          "text": [
            "<class 'pandas.core.frame.DataFrame'>\n",
            "RangeIndex: 50982 entries, 0 to 50981\n",
            "Data columns (total 12 columns):\n",
            " #   Column              Non-Null Count  Dtype  \n",
            "---  ------              --------------  -----  \n",
            " 0   case_id             0 non-null      float64\n",
            " 1   provincial_case_id  50982 non-null  int64  \n",
            " 2   age                 50982 non-null  object \n",
            " 3   sex                 50982 non-null  object \n",
            " 4   health_region       50982 non-null  object \n",
            " 5   province            50982 non-null  object \n",
            " 6   country             50982 non-null  object \n",
            " 7   date_report         50982 non-null  object \n",
            " 8   report_week         50982 non-null  object \n",
            " 9   has_travel_history  1150 non-null   object \n",
            " 10  locally_acquired    574 non-null    object \n",
            " 11  case_source         50982 non-null  object \n",
            "dtypes: float64(1), int64(1), object(10)\n",
            "memory usage: 4.7+ MB\n"
          ],
          "name": "stdout"
        }
      ]
    },
    {
      "cell_type": "markdown",
      "metadata": {
        "id": "kUVtR09Ejacu",
        "colab_type": "text"
      },
      "source": [
        "### df.sample ( n = m )\n",
        "\n",
        "- Seleciona de forma aleatória um número \"m\" de unidades amostrais"
      ]
    },
    {
      "cell_type": "code",
      "metadata": {
        "id": "-whTQfPbi-Va",
        "colab_type": "code",
        "colab": {}
      },
      "source": [
        "# Selecionar uma amostra com 1000 indivíduos\n",
        "df_sample = df.sample (n = 1000)"
      ],
      "execution_count": 0,
      "outputs": []
    },
    {
      "cell_type": "code",
      "metadata": {
        "id": "h5ftuVJnj4M7",
        "colab_type": "code",
        "colab": {
          "base_uri": "https://localhost:8080/",
          "height": 336
        },
        "outputId": "881eb2ca-ceb5-4380-8f59-41943117ce1b"
      },
      "source": [
        "df_sample.info()"
      ],
      "execution_count": 5,
      "outputs": [
        {
          "output_type": "stream",
          "text": [
            "<class 'pandas.core.frame.DataFrame'>\n",
            "Int64Index: 1000 entries, 6999 to 36502\n",
            "Data columns (total 12 columns):\n",
            " #   Column              Non-Null Count  Dtype  \n",
            "---  ------              --------------  -----  \n",
            " 0   case_id             0 non-null      float64\n",
            " 1   provincial_case_id  1000 non-null   int64  \n",
            " 2   age                 1000 non-null   object \n",
            " 3   sex                 1000 non-null   object \n",
            " 4   health_region       1000 non-null   object \n",
            " 5   province            1000 non-null   object \n",
            " 6   country             1000 non-null   object \n",
            " 7   date_report         1000 non-null   object \n",
            " 8   report_week         1000 non-null   object \n",
            " 9   has_travel_history  20 non-null     object \n",
            " 10  locally_acquired    14 non-null     object \n",
            " 11  case_source         1000 non-null   object \n",
            "dtypes: float64(1), int64(1), object(10)\n",
            "memory usage: 101.6+ KB\n"
          ],
          "name": "stdout"
        }
      ]
    },
    {
      "cell_type": "markdown",
      "metadata": {
        "id": "0aRJrjtOkEP2",
        "colab_type": "text"
      },
      "source": [
        "### df.sample (frac = float)\n",
        "\n",
        "- Seleciona de forma aleatória uma amostra que representa um percentual (float) da população"
      ]
    },
    {
      "cell_type": "code",
      "metadata": {
        "id": "lgz_WzEkj7F6",
        "colab_type": "code",
        "colab": {}
      },
      "source": [
        "df_sample = df.sample (frac = 0.1)"
      ],
      "execution_count": 0,
      "outputs": []
    },
    {
      "cell_type": "code",
      "metadata": {
        "id": "dj1KaG_EkWDZ",
        "colab_type": "code",
        "colab": {
          "base_uri": "https://localhost:8080/",
          "height": 336
        },
        "outputId": "345d9842-4d33-4e91-df25-0196baaa5f8c"
      },
      "source": [
        "df_sample.info()"
      ],
      "execution_count": 7,
      "outputs": [
        {
          "output_type": "stream",
          "text": [
            "<class 'pandas.core.frame.DataFrame'>\n",
            "Int64Index: 5098 entries, 7369 to 5627\n",
            "Data columns (total 12 columns):\n",
            " #   Column              Non-Null Count  Dtype  \n",
            "---  ------              --------------  -----  \n",
            " 0   case_id             0 non-null      float64\n",
            " 1   provincial_case_id  5098 non-null   int64  \n",
            " 2   age                 5098 non-null   object \n",
            " 3   sex                 5098 non-null   object \n",
            " 4   health_region       5098 non-null   object \n",
            " 5   province            5098 non-null   object \n",
            " 6   country             5098 non-null   object \n",
            " 7   date_report         5098 non-null   object \n",
            " 8   report_week         5098 non-null   object \n",
            " 9   has_travel_history  116 non-null    object \n",
            " 10  locally_acquired    55 non-null     object \n",
            " 11  case_source         5098 non-null   object \n",
            "dtypes: float64(1), int64(1), object(10)\n",
            "memory usage: 517.8+ KB\n"
          ],
          "name": "stdout"
        }
      ]
    },
    {
      "cell_type": "markdown",
      "metadata": {
        "id": "LWcK4VZwkhk3",
        "colab_type": "text"
      },
      "source": [
        "## Amostragem Aleatória Estratificada\n",
        "\n",
        "- Especifica-se uma determinada característica da população, de tal sorte que a amostragem é realizada a partir dessa característica, com a formação de estratos\n",
        "- Especifica-se a proporção de unidades amostrais que devem ser retiradas de cada estrato definido\n",
        "- O método \"train_test_split\" da biblioteca Scikit-Learn, além de dividir o dataset em conjuntos de treino e teste, também é usado para gerar uma amostragem estratificada"
      ]
    },
    {
      "cell_type": "code",
      "metadata": {
        "id": "7yb8_wNqkXo7",
        "colab_type": "code",
        "colab": {}
      },
      "source": [
        "# Importação do método TrainTestSplit\n",
        "from sklearn.model_selection import train_test_split"
      ],
      "execution_count": 0,
      "outputs": []
    },
    {
      "cell_type": "code",
      "metadata": {
        "id": "44u9AOHllUin",
        "colab_type": "code",
        "colab": {
          "base_uri": "https://localhost:8080/",
          "height": 252
        },
        "outputId": "8f4b708c-f53d-4a62-8526-17a3fc7cc54d"
      },
      "source": [
        "# Contagem dos valores únicos do atributo \"Province\"\n",
        "df.province.value_counts()"
      ],
      "execution_count": 9,
      "outputs": [
        {
          "output_type": "execute_result",
          "data": {
            "text/plain": [
              "Quebec           25757\n",
              "Ontario          16337\n",
              "Alberta           4850\n",
              "BC                2053\n",
              "Nova Scotia        915\n",
              "Saskatchewan       366\n",
              "Manitoba           272\n",
              "NL                 258\n",
              "New Brunswick      118\n",
              "PEI                 27\n",
              "Repatriated         13\n",
              "Yukon               11\n",
              "NWT                  5\n",
              "Name: province, dtype: int64"
            ]
          },
          "metadata": {
            "tags": []
          },
          "execution_count": 9
        }
      ]
    },
    {
      "cell_type": "markdown",
      "metadata": {
        "id": "MZi5jXAomDkw",
        "colab_type": "text"
      },
      "source": [
        "### x_train, x_test, y_train, y_test = train_test_split(df_train , df_test , stratify = df [ 'col_name' ] , test_size = float )\n",
        "\n",
        "- O parâmetro \"stratify\" define qual é o atributo que servirá como característica para definir os estratos\n",
        "- O parâmetro \"test_size\" define o tamanho (em %) do conjunto de teste"
      ]
    },
    {
      "cell_type": "code",
      "metadata": {
        "id": "3rJ8WlV5lfOQ",
        "colab_type": "code",
        "colab": {}
      },
      "source": [
        "# Aplicando o método train_test_split\n",
        "X_train, X_test, y_train, y_test = train_test_split(df.drop('province',axis=1),\n",
        "                                                    df['province'],\n",
        "                                                    stratify=df['province'],\n",
        "                                                    test_size=0.20)"
      ],
      "execution_count": 0,
      "outputs": []
    },
    {
      "cell_type": "code",
      "metadata": {
        "id": "APC00geQnARu",
        "colab_type": "code",
        "colab": {
          "base_uri": "https://localhost:8080/",
          "height": 34
        },
        "outputId": "afb1a881-ccf9-407a-bf03-f906b586714d"
      },
      "source": [
        "# Verificando forma do conjunto de teste (10197 linhas e 1 coluna)\n",
        "# Esse conjunto corresponde a 20% do dataset, no caso\n",
        "y_test.shape"
      ],
      "execution_count": 12,
      "outputs": [
        {
          "output_type": "execute_result",
          "data": {
            "text/plain": [
              "(10197,)"
            ]
          },
          "metadata": {
            "tags": []
          },
          "execution_count": 12
        }
      ]
    },
    {
      "cell_type": "code",
      "metadata": {
        "id": "ZAzxQ_w1nGQ0",
        "colab_type": "code",
        "colab": {
          "base_uri": "https://localhost:8080/",
          "height": 252
        },
        "outputId": "93d5c2c3-9e10-45af-bdb8-4294a589c50d"
      },
      "source": [
        "# Verificação da contagem dos valores únicos do conjunto de teste\n",
        "# Observe que temos 20% da contagem total para cada valor único. Isso foi\n",
        "# possível através do parâmetro \"stratify\"\n",
        "y_test.value_counts()"
      ],
      "execution_count": 13,
      "outputs": [
        {
          "output_type": "execute_result",
          "data": {
            "text/plain": [
              "Quebec           5152\n",
              "Ontario          3267\n",
              "Alberta           970\n",
              "BC                411\n",
              "Nova Scotia       183\n",
              "Saskatchewan       73\n",
              "Manitoba           54\n",
              "NL                 52\n",
              "New Brunswick      24\n",
              "PEI                 5\n",
              "Repatriated         3\n",
              "Yukon               2\n",
              "NWT                 1\n",
              "Name: province, dtype: int64"
            ]
          },
          "metadata": {
            "tags": []
          },
          "execution_count": 13
        }
      ]
    },
    {
      "cell_type": "markdown",
      "metadata": {
        "id": "8yNoLFugoFSM",
        "colab_type": "text"
      },
      "source": [
        "## Amostragem Aleatória Sistemática\n",
        "\n",
        "- Gera-se um semente aleatória (random seed)\n",
        "- Ela servirá como um passo para a seleção das amostras seguintes\n",
        "- Exemplo: se a semente é 20, a seleção de amostras será feita a cada 20 amostras"
      ]
    },
    {
      "cell_type": "code",
      "metadata": {
        "id": "1FSMw8zKnje-",
        "colab_type": "code",
        "colab": {}
      },
      "source": [
        "import numpy as np"
      ],
      "execution_count": 0,
      "outputs": []
    },
    {
      "cell_type": "markdown",
      "metadata": {
        "id": "kAdMmPS5o62H",
        "colab_type": "text"
      },
      "source": [
        "### Geração da Semente Aleatória\n",
        "\n",
        "                                  seed = np.random.choice (n , m)\n",
        "\n",
        "- Parâmetro \"n\" --> inteiro que representa o limite final de uma série de números inteiros positivos (e.g. n = 10, a série começa em 0 e termina em 10, com passo 1)\n",
        "- Parâmetro \"m\" --> número de amostras que serão selecionadas"
      ]
    },
    {
      "cell_type": "code",
      "metadata": {
        "id": "mHoM_eCPo2T0",
        "colab_type": "code",
        "colab": {
          "base_uri": "https://localhost:8080/",
          "height": 34
        },
        "outputId": "a7bc5eec-ae30-4102-ccbc-a669d4e2a9b1"
      },
      "source": [
        "semente = np.random.choice(10,1)\n",
        "semente"
      ],
      "execution_count": 20,
      "outputs": [
        {
          "output_type": "execute_result",
          "data": {
            "text/plain": [
              "array([9])"
            ]
          },
          "metadata": {
            "tags": []
          },
          "execution_count": 20
        }
      ]
    },
    {
      "cell_type": "markdown",
      "metadata": {
        "id": "K9ezQ7uMrJ0Y",
        "colab_type": "text"
      },
      "source": [
        "### Geração dos Índices\n",
        "\n",
        "                                   indexes = np.arange (n , m , seed)\n",
        "\n",
        "- Esse método realiza a seleção dos índices que serão utilizados para buscar as amostras no df\n",
        "- Esses índices corresponderão aos índices das linhas que serão extraídas do df para compor a amostra aleatória sistemática\n",
        "- Parâmetros:\n",
        "  - n --> limite inferior de uma sequência de números inteiros positivos\n",
        "  - m --> limite superior de uma sequência de números inteiros positivos (poderia ser dado por len(df). Nesse caso, percorreria todas as linhas do df)\n",
        "  - seed --> semente aleatória gerada pelo comando \" np.random.choice ( ) \""
      ]
    },
    {
      "cell_type": "code",
      "metadata": {
        "id": "qATkUEnpq2n5",
        "colab_type": "code",
        "colab": {
          "base_uri": "https://localhost:8080/",
          "height": 34
        },
        "outputId": "9fc98544-e7f9-49de-88f7-a82d0717a9ad"
      },
      "source": [
        "indices = np.arange(0,100,semente)\n",
        "indices"
      ],
      "execution_count": 22,
      "outputs": [
        {
          "output_type": "execute_result",
          "data": {
            "text/plain": [
              "array([ 0,  9, 18, 27, 36, 45, 54, 63, 72, 81, 90, 99])"
            ]
          },
          "metadata": {
            "tags": []
          },
          "execution_count": 22
        }
      ]
    },
    {
      "cell_type": "markdown",
      "metadata": {
        "id": "OimtUuwfuQXA",
        "colab_type": "text"
      },
      "source": [
        "### Geração da Amostra a partir dos Índices\n",
        "\n",
        "                                           sample = df.loc [ indexes , : ]\n",
        "\n",
        "- Busca as linhas do df, de acordo com os índices encontrados no passo anterior"
      ]
    },
    {
      "cell_type": "code",
      "metadata": {
        "id": "wgULopCxuOKo",
        "colab_type": "code",
        "colab": {
          "base_uri": "https://localhost:8080/",
          "height": 540
        },
        "outputId": "6070ceab-4d21-4e35-cd5a-c1f81ee96dc1"
      },
      "source": [
        "amostra = df.loc[indices,:]\n",
        "amostra"
      ],
      "execution_count": 23,
      "outputs": [
        {
          "output_type": "execute_result",
          "data": {
            "text/html": [
              "<div>\n",
              "<style scoped>\n",
              "    .dataframe tbody tr th:only-of-type {\n",
              "        vertical-align: middle;\n",
              "    }\n",
              "\n",
              "    .dataframe tbody tr th {\n",
              "        vertical-align: top;\n",
              "    }\n",
              "\n",
              "    .dataframe thead th {\n",
              "        text-align: right;\n",
              "    }\n",
              "</style>\n",
              "<table border=\"1\" class=\"dataframe\">\n",
              "  <thead>\n",
              "    <tr style=\"text-align: right;\">\n",
              "      <th></th>\n",
              "      <th>case_id</th>\n",
              "      <th>provincial_case_id</th>\n",
              "      <th>age</th>\n",
              "      <th>sex</th>\n",
              "      <th>health_region</th>\n",
              "      <th>province</th>\n",
              "      <th>country</th>\n",
              "      <th>date_report</th>\n",
              "      <th>report_week</th>\n",
              "      <th>has_travel_history</th>\n",
              "      <th>locally_acquired</th>\n",
              "      <th>case_source</th>\n",
              "    </tr>\n",
              "  </thead>\n",
              "  <tbody>\n",
              "    <tr>\n",
              "      <th>0</th>\n",
              "      <td>NaN</td>\n",
              "      <td>1</td>\n",
              "      <td>50-59</td>\n",
              "      <td>Male</td>\n",
              "      <td>Toronto</td>\n",
              "      <td>Ontario</td>\n",
              "      <td>Canada</td>\n",
              "      <td>2020-01-25</td>\n",
              "      <td>2020-01-19</td>\n",
              "      <td>t</td>\n",
              "      <td>NaN</td>\n",
              "      <td>(1) https://news.ontario.ca/mohltc/en/2020/01/...</td>\n",
              "    </tr>\n",
              "    <tr>\n",
              "      <th>9</th>\n",
              "      <td>NaN</td>\n",
              "      <td>4</td>\n",
              "      <td>20-29</td>\n",
              "      <td>Female</td>\n",
              "      <td>Toronto</td>\n",
              "      <td>Ontario</td>\n",
              "      <td>Canada</td>\n",
              "      <td>2020-02-23</td>\n",
              "      <td>2020-02-23</td>\n",
              "      <td>t</td>\n",
              "      <td>NaN</td>\n",
              "      <td>(1) https://news.ontario.ca/mohltc/en/2020/02/...</td>\n",
              "    </tr>\n",
              "    <tr>\n",
              "      <th>18</th>\n",
              "      <td>NaN</td>\n",
              "      <td>11</td>\n",
              "      <td>60-69</td>\n",
              "      <td>Male</td>\n",
              "      <td>Durham</td>\n",
              "      <td>Ontario</td>\n",
              "      <td>Canada</td>\n",
              "      <td>2020-02-29</td>\n",
              "      <td>2020-02-23</td>\n",
              "      <td>f</td>\n",
              "      <td>Close Contact</td>\n",
              "      <td>https://news.ontario.ca/mohltc/en/2020/02/onta...</td>\n",
              "    </tr>\n",
              "    <tr>\n",
              "      <th>27</th>\n",
              "      <td>NaN</td>\n",
              "      <td>19</td>\n",
              "      <td>70-79</td>\n",
              "      <td>Female</td>\n",
              "      <td>York</td>\n",
              "      <td>Ontario</td>\n",
              "      <td>Canada</td>\n",
              "      <td>2020-03-03</td>\n",
              "      <td>2020-03-01</td>\n",
              "      <td>t</td>\n",
              "      <td>NaN</td>\n",
              "      <td>(1) https://news.ontario.ca/mohltc/en/2020/03/...</td>\n",
              "    </tr>\n",
              "    <tr>\n",
              "      <th>36</th>\n",
              "      <td>NaN</td>\n",
              "      <td>22</td>\n",
              "      <td>60-69</td>\n",
              "      <td>Male</td>\n",
              "      <td>Toronto</td>\n",
              "      <td>Ontario</td>\n",
              "      <td>Canada</td>\n",
              "      <td>2020-03-05</td>\n",
              "      <td>2020-03-01</td>\n",
              "      <td>t</td>\n",
              "      <td>NaN</td>\n",
              "      <td>https://news.ontario.ca/mohltc/en/2020/03/onta...</td>\n",
              "    </tr>\n",
              "    <tr>\n",
              "      <th>45</th>\n",
              "      <td>NaN</td>\n",
              "      <td>21</td>\n",
              "      <td>50-59</td>\n",
              "      <td>Female</td>\n",
              "      <td>Fraser</td>\n",
              "      <td>BC</td>\n",
              "      <td>Canada</td>\n",
              "      <td>2020-03-05</td>\n",
              "      <td>2020-03-01</td>\n",
              "      <td>f</td>\n",
              "      <td>Community</td>\n",
              "      <td>https://news.gov.bc.ca/releases/2020HLTH0062-0...</td>\n",
              "    </tr>\n",
              "    <tr>\n",
              "      <th>54</th>\n",
              "      <td>NaN</td>\n",
              "      <td>22</td>\n",
              "      <td>50-59</td>\n",
              "      <td>Male</td>\n",
              "      <td>Fraser</td>\n",
              "      <td>BC</td>\n",
              "      <td>Canada</td>\n",
              "      <td>2020-03-07</td>\n",
              "      <td>2020-03-01</td>\n",
              "      <td>t</td>\n",
              "      <td>NaN</td>\n",
              "      <td>https://news.gov.bc.ca/releases/2020HLTH0064-0...</td>\n",
              "    </tr>\n",
              "    <tr>\n",
              "      <th>63</th>\n",
              "      <td>NaN</td>\n",
              "      <td>4</td>\n",
              "      <td>30-39</td>\n",
              "      <td>Female</td>\n",
              "      <td>Calgary</td>\n",
              "      <td>Alberta</td>\n",
              "      <td>Canada</td>\n",
              "      <td>2020-03-08</td>\n",
              "      <td>2020-03-08</td>\n",
              "      <td>f</td>\n",
              "      <td>Close Contact</td>\n",
              "      <td>https://globalnews.ca/news/6647035/new-presump...</td>\n",
              "    </tr>\n",
              "    <tr>\n",
              "      <th>72</th>\n",
              "      <td>NaN</td>\n",
              "      <td>31</td>\n",
              "      <td>50-59</td>\n",
              "      <td>Female</td>\n",
              "      <td>Vancouver Coastal</td>\n",
              "      <td>BC</td>\n",
              "      <td>Canada</td>\n",
              "      <td>2020-03-09</td>\n",
              "      <td>2020-03-08</td>\n",
              "      <td>t</td>\n",
              "      <td>NaN</td>\n",
              "      <td>https://news.gov.bc.ca/releases/2020HLTH0068-0...</td>\n",
              "    </tr>\n",
              "    <tr>\n",
              "      <th>81</th>\n",
              "      <td>NaN</td>\n",
              "      <td>9</td>\n",
              "      <td>60-69</td>\n",
              "      <td>Female</td>\n",
              "      <td>Edmonton</td>\n",
              "      <td>Alberta</td>\n",
              "      <td>Canada</td>\n",
              "      <td>2020-03-09</td>\n",
              "      <td>2020-03-08</td>\n",
              "      <td>t</td>\n",
              "      <td>NaN</td>\n",
              "      <td>https://www.alberta.ca/release.cfm?xID=68785BC...</td>\n",
              "    </tr>\n",
              "    <tr>\n",
              "      <th>90</th>\n",
              "      <td>NaN</td>\n",
              "      <td>36</td>\n",
              "      <td>90-99</td>\n",
              "      <td>Male</td>\n",
              "      <td>Vancouver Coastal</td>\n",
              "      <td>BC</td>\n",
              "      <td>Canada</td>\n",
              "      <td>2020-03-10</td>\n",
              "      <td>2020-03-08</td>\n",
              "      <td>t</td>\n",
              "      <td>NaN</td>\n",
              "      <td>https://news.gov.bc.ca/releases/2020HLTH0072-0...</td>\n",
              "    </tr>\n",
              "    <tr>\n",
              "      <th>99</th>\n",
              "      <td>NaN</td>\n",
              "      <td>6</td>\n",
              "      <td>Not Reported</td>\n",
              "      <td>Not Reported</td>\n",
              "      <td>Montréal</td>\n",
              "      <td>Quebec</td>\n",
              "      <td>Canada</td>\n",
              "      <td>2020-03-11</td>\n",
              "      <td>2020-03-08</td>\n",
              "      <td>t</td>\n",
              "      <td>NaN</td>\n",
              "      <td>(1) https://www.lapresse.ca/covid-19/202003/11...</td>\n",
              "    </tr>\n",
              "  </tbody>\n",
              "</table>\n",
              "</div>"
            ],
            "text/plain": [
              "    case_id  ...                                        case_source\n",
              "0       NaN  ...  (1) https://news.ontario.ca/mohltc/en/2020/01/...\n",
              "9       NaN  ...  (1) https://news.ontario.ca/mohltc/en/2020/02/...\n",
              "18      NaN  ...  https://news.ontario.ca/mohltc/en/2020/02/onta...\n",
              "27      NaN  ...  (1) https://news.ontario.ca/mohltc/en/2020/03/...\n",
              "36      NaN  ...  https://news.ontario.ca/mohltc/en/2020/03/onta...\n",
              "45      NaN  ...  https://news.gov.bc.ca/releases/2020HLTH0062-0...\n",
              "54      NaN  ...  https://news.gov.bc.ca/releases/2020HLTH0064-0...\n",
              "63      NaN  ...  https://globalnews.ca/news/6647035/new-presump...\n",
              "72      NaN  ...  https://news.gov.bc.ca/releases/2020HLTH0068-0...\n",
              "81      NaN  ...  https://www.alberta.ca/release.cfm?xID=68785BC...\n",
              "90      NaN  ...  https://news.gov.bc.ca/releases/2020HLTH0072-0...\n",
              "99      NaN  ...  (1) https://www.lapresse.ca/covid-19/202003/11...\n",
              "\n",
              "[12 rows x 12 columns]"
            ]
          },
          "metadata": {
            "tags": []
          },
          "execution_count": 23
        }
      ]
    },
    {
      "cell_type": "code",
      "metadata": {
        "id": "__yJU4q9vFb6",
        "colab_type": "code",
        "colab": {
          "base_uri": "https://localhost:8080/",
          "height": 336
        },
        "outputId": "3e395537-6155-444b-ae21-32b5b820c4fa"
      },
      "source": [
        "amostra.info()"
      ],
      "execution_count": 24,
      "outputs": [
        {
          "output_type": "stream",
          "text": [
            "<class 'pandas.core.frame.DataFrame'>\n",
            "Int64Index: 12 entries, 0 to 99\n",
            "Data columns (total 12 columns):\n",
            " #   Column              Non-Null Count  Dtype  \n",
            "---  ------              --------------  -----  \n",
            " 0   case_id             0 non-null      float64\n",
            " 1   provincial_case_id  12 non-null     int64  \n",
            " 2   age                 12 non-null     object \n",
            " 3   sex                 12 non-null     object \n",
            " 4   health_region       12 non-null     object \n",
            " 5   province            12 non-null     object \n",
            " 6   country             12 non-null     object \n",
            " 7   date_report         12 non-null     object \n",
            " 8   report_week         12 non-null     object \n",
            " 9   has_travel_history  12 non-null     object \n",
            " 10  locally_acquired    3 non-null      object \n",
            " 11  case_source         12 non-null     object \n",
            "dtypes: float64(1), int64(1), object(10)\n",
            "memory usage: 1.2+ KB\n"
          ],
          "name": "stdout"
        }
      ]
    },
    {
      "cell_type": "markdown",
      "metadata": {
        "id": "bt70_nSHvQH8",
        "colab_type": "text"
      },
      "source": [
        "### Resumo\n",
        "\n",
        "São realizadas 3 etapas para a geração de amostras aleatórias sistemáticas:\n",
        "\n",
        "- 1 ) Geração da semente aleatória:\n",
        "                             seed = np.random.choice (n , m)\n",
        "- 2 ) Geração dos índices para a busca:\n",
        "                             indexes = np.arrange (n , m , seed)\n",
        "- 3 ) Geração da amostra a partir da busca pelos índices\n",
        "                             sample = df.loc (indexes, : )"
      ]
    }
  ]
}